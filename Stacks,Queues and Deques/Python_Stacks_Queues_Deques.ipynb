{
  "nbformat": 4,
  "nbformat_minor": 0,
  "metadata": {
    "colab": {
      "name": "Python_Stacks_Queues_Deques.ipynb",
      "provenance": []
    },
    "kernelspec": {
      "name": "python3",
      "display_name": "Python 3"
    }
  },
  "cells": [
    {
      "cell_type": "markdown",
      "metadata": {
        "id": "hf1tdhRxaQYN"
      },
      "source": [
        "# **Implementation of Stack**\r\n",
        "Stack Attributes and Methods\r\n",
        "Before we implement our own Stack class, let's review the properties and methods of a Stack.\r\n",
        "\r\n",
        "The stack abstract data type is defined by the following structure and operations. A stack is structured, as described above, as an ordered collection of items where items are added to and removed from the end called the “top.” Stacks are ordered LIFO. The stack operations are given below.\r\n",
        "\r\n",
        "Stack() creates a new stack that is empty. It needs no parameters and returns an empty stack.\r\n",
        "push(item) adds a new item to the top of the stack. It needs the item and returns nothing.\r\n",
        "pop() removes the top item from the stack. It needs no parameters and returns the item. The stack is modified.\r\n",
        "peek() returns the top item from the stack but does not remove it. It needs no parameters. The stack is not modified.\r\n",
        "isEmpty() tests to see whether the stack is empty. It needs no parameters and returns a boolean value.\r\n",
        "size() returns the number of items on the stack. It needs no parameters and returns an integer.\r\n"
      ]
    },
    {
      "cell_type": "code",
      "metadata": {
        "id": "7RNWwlLYbAXE"
      },
      "source": [
        "class Stack(object):\r\n",
        "  def __init__(self):\r\n",
        "    self.items = []\r\n",
        "\r\n",
        "  def isEmpty(self):\r\n",
        "    return self.items == []\r\n",
        "\r\n",
        "  def push(self,ele):\r\n",
        "    self.items.append(ele)\r\n",
        "\r\n",
        "  def pop(self):\r\n",
        "    return self.items.pop()\r\n",
        "  \r\n",
        "  def peek(self):\r\n",
        "    return self.items[-1]\r\n",
        "\r\n",
        "  def size(self):\r\n",
        "    return len(self.items)"
      ],
      "execution_count": 6,
      "outputs": []
    },
    {
      "cell_type": "code",
      "metadata": {
        "colab": {
          "base_uri": "https://localhost:8080/"
        },
        "id": "C8aPhlzQcK_h",
        "outputId": "d35227b5-e353-464c-b716-aaa5a682ba56"
      },
      "source": [
        "s = Stack()\r\n",
        "print (s.isEmpty())"
      ],
      "execution_count": 7,
      "outputs": [
        {
          "output_type": "stream",
          "text": [
            "True\n"
          ],
          "name": "stdout"
        }
      ]
    },
    {
      "cell_type": "code",
      "metadata": {
        "colab": {
          "base_uri": "https://localhost:8080/"
        },
        "id": "i0NNGMGccXfN",
        "outputId": "4aa0ffce-efb2-45c8-9a70-a03e7b37ae9c"
      },
      "source": [
        "s.push(1)\r\n",
        "s.push(2)\r\n",
        "s.push(3)\r\n",
        "s.size()"
      ],
      "execution_count": 8,
      "outputs": [
        {
          "output_type": "execute_result",
          "data": {
            "text/plain": [
              "3"
            ]
          },
          "metadata": {
            "tags": []
          },
          "execution_count": 8
        }
      ]
    },
    {
      "cell_type": "code",
      "metadata": {
        "colab": {
          "base_uri": "https://localhost:8080/"
        },
        "id": "6EnGppXfcjDo",
        "outputId": "f0728a07-7fc9-47d9-bd14-fdbada912926"
      },
      "source": [
        "s.peek()"
      ],
      "execution_count": 9,
      "outputs": [
        {
          "output_type": "execute_result",
          "data": {
            "text/plain": [
              "3"
            ]
          },
          "metadata": {
            "tags": []
          },
          "execution_count": 9
        }
      ]
    },
    {
      "cell_type": "code",
      "metadata": {
        "colab": {
          "base_uri": "https://localhost:8080/"
        },
        "id": "vVbc4KdnctSk",
        "outputId": "65852e2f-b7c7-4437-9fd8-ba18b65c37f8"
      },
      "source": [
        "s.pop()"
      ],
      "execution_count": 10,
      "outputs": [
        {
          "output_type": "execute_result",
          "data": {
            "text/plain": [
              "3"
            ]
          },
          "metadata": {
            "tags": []
          },
          "execution_count": 10
        }
      ]
    },
    {
      "cell_type": "code",
      "metadata": {
        "colab": {
          "base_uri": "https://localhost:8080/"
        },
        "id": "N3iUehwGcuzS",
        "outputId": "f01980da-1e85-4195-b6ef-8554061ec72b"
      },
      "source": [
        "s.peek()"
      ],
      "execution_count": 11,
      "outputs": [
        {
          "output_type": "execute_result",
          "data": {
            "text/plain": [
              "2"
            ]
          },
          "metadata": {
            "tags": []
          },
          "execution_count": 11
        }
      ]
    },
    {
      "cell_type": "code",
      "metadata": {
        "colab": {
          "base_uri": "https://localhost:8080/"
        },
        "id": "WYnhHsLRcv5X",
        "outputId": "4e005bdd-5bfd-4b1e-b740-825e8d9874ac"
      },
      "source": [
        "s.isEmpty()"
      ],
      "execution_count": 12,
      "outputs": [
        {
          "output_type": "execute_result",
          "data": {
            "text/plain": [
              "False"
            ]
          },
          "metadata": {
            "tags": []
          },
          "execution_count": 12
        }
      ]
    },
    {
      "cell_type": "markdown",
      "metadata": {
        "id": "dNBRh9gmc1iu"
      },
      "source": [
        "# ***Queue Methods and Attributes***\r\n",
        "\r\n",
        "Before we begin implementing our own queue, let's review the attribute and methods it will have:\r\n",
        "\r\n",
        "Queue() creates a new queue that is empty. It needs no parameters and returns an empty queue.\r\n",
        "enqueue(item) adds a new item to the rear of the queue. It needs the item and returns nothing.\r\n",
        "dequeue() removes the front item from the queue. It needs no parameters and returns the item. The queue is modified.\r\n",
        "isEmpty() tests to see whether the queue is empty. It needs no parameters and returns a boolean value.\r\n",
        "size() returns the number of items in the queue. It needs no parameters and returns an integer."
      ]
    },
    {
      "cell_type": "code",
      "metadata": {
        "id": "WyayIKsSdJrg"
      },
      "source": [
        "class Queue(object):\r\n",
        "\r\n",
        "  def __init__(self):\r\n",
        "    self.items = []\r\n",
        "  \r\n",
        "  def isEmpty(self):\r\n",
        "    return self.items == []\r\n",
        "  \r\n",
        "  def enqueue(self,ele):\r\n",
        "    self.items.insert(0,ele)\r\n",
        "  \r\n",
        "  def dequeue(self):\r\n",
        "    return self.items.pop()\r\n",
        "\r\n",
        "  def size(self):\r\n",
        "    return len(self.items)"
      ],
      "execution_count": 27,
      "outputs": []
    },
    {
      "cell_type": "code",
      "metadata": {
        "colab": {
          "base_uri": "https://localhost:8080/"
        },
        "id": "GoK5G2vud7DX",
        "outputId": "68542915-7825-430c-f1c1-6116dbb84895"
      },
      "source": [
        "q = Queue()\r\n",
        "q.isEmpty()"
      ],
      "execution_count": 28,
      "outputs": [
        {
          "output_type": "execute_result",
          "data": {
            "text/plain": [
              "True"
            ]
          },
          "metadata": {
            "tags": []
          },
          "execution_count": 28
        }
      ]
    },
    {
      "cell_type": "code",
      "metadata": {
        "colab": {
          "base_uri": "https://localhost:8080/"
        },
        "id": "deaXgwtmd-vV",
        "outputId": "c649e2a8-47d1-47c4-9fb2-3378a36de6f8"
      },
      "source": [
        "q.enqueue(1)\r\n",
        "q.enqueue(2)\r\n",
        "q.enqueue(3)\r\n",
        "q.size()"
      ],
      "execution_count": 29,
      "outputs": [
        {
          "output_type": "execute_result",
          "data": {
            "text/plain": [
              "3"
            ]
          },
          "metadata": {
            "tags": []
          },
          "execution_count": 29
        }
      ]
    },
    {
      "cell_type": "code",
      "metadata": {
        "colab": {
          "base_uri": "https://localhost:8080/"
        },
        "id": "-PtMK2vYeEc0",
        "outputId": "b67272e5-eb2b-4ab0-8893-64fdd47c6976"
      },
      "source": [
        "q.dequeue()"
      ],
      "execution_count": 30,
      "outputs": [
        {
          "output_type": "execute_result",
          "data": {
            "text/plain": [
              "1"
            ]
          },
          "metadata": {
            "tags": []
          },
          "execution_count": 30
        }
      ]
    },
    {
      "cell_type": "code",
      "metadata": {
        "colab": {
          "base_uri": "https://localhost:8080/"
        },
        "id": "8M001MmNeNch",
        "outputId": "e2ed6837-24b5-4b32-edd7-a2002f84cd8d"
      },
      "source": [
        "q.size()"
      ],
      "execution_count": 31,
      "outputs": [
        {
          "output_type": "execute_result",
          "data": {
            "text/plain": [
              "2"
            ]
          },
          "metadata": {
            "tags": []
          },
          "execution_count": 31
        }
      ]
    },
    {
      "cell_type": "code",
      "metadata": {
        "colab": {
          "base_uri": "https://localhost:8080/"
        },
        "id": "fN1CJxZFeVA9",
        "outputId": "0a5b0014-dd51-4330-d71a-33c731bfc7cf"
      },
      "source": [
        "q.isEmpty()"
      ],
      "execution_count": 32,
      "outputs": [
        {
          "output_type": "execute_result",
          "data": {
            "text/plain": [
              "False"
            ]
          },
          "metadata": {
            "tags": []
          },
          "execution_count": 32
        }
      ]
    },
    {
      "cell_type": "markdown",
      "metadata": {
        "id": "2DvBN9PxeXCf"
      },
      "source": [
        "# **Implementation of Deque**\r\n",
        "In this lecture we will implement our own Deque class!\r\n",
        "\r\n",
        "Methods and Attributes\r\n",
        "Deque() creates a new deque that is empty. It needs no parameters and returns an empty deque.\r\n",
        "addFront(item) adds a new item to the front of the deque. It needs the item and returns nothing.\r\n",
        "addRear(item) adds a new item to the rear of the deque. It needs the item and returns nothing.\r\n",
        "removeFront() removes the front item from the deque. It needs no parameters and returns the item. The deque is modified.\r\n",
        "removeRear() removes the rear item from the deque. It needs no parameters and returns the item. The deque is modified.\r\n",
        "isEmpty() tests to see whether the deque is empty. It needs no parameters and returns a boolean value.\r\n",
        "size() returns the number of items in the deque. It needs no parameters and returns an integer."
      ]
    },
    {
      "cell_type": "code",
      "metadata": {
        "id": "2kkIhK_Ne9Vc"
      },
      "source": [
        "class Deque:\r\n",
        "\r\n",
        "  def __init__(self):\r\n",
        "    self.items = []\r\n",
        "  \r\n",
        "  def isEmpty(self):\r\n",
        "    return self.items == []\r\n",
        "  \r\n",
        "  def addRear(self,ele):\r\n",
        "    self.items.append(ele)\r\n",
        "  \r\n",
        "  def addFront(self,ele):\r\n",
        "    self.items.insert(0,ele)\r\n",
        "  \r\n",
        "  def removeRear(self):\r\n",
        "    return self.items.pop()\r\n",
        "\r\n",
        "  def removeFront(self):\r\n",
        "    return self.items.pop(0)\r\n",
        "\r\n",
        "  def size(self):\r\n",
        "    return len(self.items)"
      ],
      "execution_count": 37,
      "outputs": []
    },
    {
      "cell_type": "code",
      "metadata": {
        "colab": {
          "base_uri": "https://localhost:8080/"
        },
        "id": "YhNbUaLXgYrp",
        "outputId": "740dc8d2-e26a-44df-8901-3da9950ae9f8"
      },
      "source": [
        "d = Deque()\r\n",
        "d.isEmpty()"
      ],
      "execution_count": 38,
      "outputs": [
        {
          "output_type": "execute_result",
          "data": {
            "text/plain": [
              "True"
            ]
          },
          "metadata": {
            "tags": []
          },
          "execution_count": 38
        }
      ]
    },
    {
      "cell_type": "code",
      "metadata": {
        "colab": {
          "base_uri": "https://localhost:8080/"
        },
        "id": "I6s_WSANgcME",
        "outputId": "8d014331-bca9-4dc7-c913-b95bb5d19c6e"
      },
      "source": [
        "d.addRear(2)\r\n",
        "d.addRear(3)\r\n",
        "d.addFront(1)\r\n",
        "d.size()"
      ],
      "execution_count": 39,
      "outputs": [
        {
          "output_type": "execute_result",
          "data": {
            "text/plain": [
              "3"
            ]
          },
          "metadata": {
            "tags": []
          },
          "execution_count": 39
        }
      ]
    },
    {
      "cell_type": "code",
      "metadata": {
        "colab": {
          "base_uri": "https://localhost:8080/"
        },
        "id": "cMp0evcqg4dd",
        "outputId": "08269885-1dc6-43ae-b866-845b3c9798c0"
      },
      "source": [
        "d.removeFront()"
      ],
      "execution_count": 40,
      "outputs": [
        {
          "output_type": "execute_result",
          "data": {
            "text/plain": [
              "1"
            ]
          },
          "metadata": {
            "tags": []
          },
          "execution_count": 40
        }
      ]
    },
    {
      "cell_type": "code",
      "metadata": {
        "colab": {
          "base_uri": "https://localhost:8080/"
        },
        "id": "zzwV-Js4g7Mz",
        "outputId": "f7ab1d66-5637-4194-c916-5523f6779135"
      },
      "source": [
        "d.removeRear()"
      ],
      "execution_count": 41,
      "outputs": [
        {
          "output_type": "execute_result",
          "data": {
            "text/plain": [
              "3"
            ]
          },
          "metadata": {
            "tags": []
          },
          "execution_count": 41
        }
      ]
    },
    {
      "cell_type": "code",
      "metadata": {
        "colab": {
          "base_uri": "https://localhost:8080/"
        },
        "id": "Y3MJZoOAg-Ji",
        "outputId": "518deee8-bd4b-4f45-b613-18f1c7a63b95"
      },
      "source": [
        "d.size()"
      ],
      "execution_count": 42,
      "outputs": [
        {
          "output_type": "execute_result",
          "data": {
            "text/plain": [
              "1"
            ]
          },
          "metadata": {
            "tags": []
          },
          "execution_count": 42
        }
      ]
    },
    {
      "cell_type": "markdown",
      "metadata": {
        "id": "dU1V2FwIg_lL"
      },
      "source": [
        "# ***Interview Problems***"
      ]
    },
    {
      "cell_type": "code",
      "metadata": {
        "id": "5-h7V6k8hWvX"
      },
      "source": [
        "# 1.  Balanced Parentheses Check\r\n",
        "# Problem Statement\r\n",
        "# Given a string of opening and closing parentheses, check whether it’s balanced. We have 3 types of parentheses: round brackets: (),\r\n",
        "# square brackets: [], and curly brackets: {}. Assume that the string doesn’t contain any other character than these, no spaces words \r\n",
        "#or numbers. As a reminder, balanced parentheses require every opening parenthesis to be closed in the reverse order opened. For example\r\n",
        "# ‘([])’ is balanced but ‘([)]’ is not.\r\n",
        "\r\n",
        "# You can assume the input string has no spaces."
      ],
      "execution_count": 44,
      "outputs": []
    },
    {
      "cell_type": "code",
      "metadata": {
        "id": "WRpsKtsAhq2R"
      },
      "source": [
        "def par_check(s):\r\n",
        "  chars = []\r\n",
        "  matches = {')':'(' , ']':'[' , '}':'{'}\r\n",
        "  for c in s:\r\n",
        "    if c in matches:\r\n",
        "      if chars == [] or chars.pop() != matches[c]:\r\n",
        "        return False\r\n",
        "    else:\r\n",
        "      chars.append(c)\r\n",
        "    \r\n",
        "  return chars == []"
      ],
      "execution_count": 50,
      "outputs": []
    },
    {
      "cell_type": "code",
      "metadata": {
        "colab": {
          "base_uri": "https://localhost:8080/"
        },
        "id": "-YjknbPmoDTZ",
        "outputId": "7acccb0a-8aee-4f35-ac22-9a3170fa523e"
      },
      "source": [
        "par_check('[]')"
      ],
      "execution_count": 51,
      "outputs": [
        {
          "output_type": "execute_result",
          "data": {
            "text/plain": [
              "True"
            ]
          },
          "metadata": {
            "tags": []
          },
          "execution_count": 51
        }
      ]
    },
    {
      "cell_type": "code",
      "metadata": {
        "colab": {
          "base_uri": "https://localhost:8080/"
        },
        "id": "GHiZnaq2oFac",
        "outputId": "fcf41a8c-80d5-437e-f962-01e398cb965a"
      },
      "source": [
        "par_check('{[)')"
      ],
      "execution_count": 52,
      "outputs": [
        {
          "output_type": "execute_result",
          "data": {
            "text/plain": [
              "False"
            ]
          },
          "metadata": {
            "tags": []
          },
          "execution_count": 52
        }
      ]
    },
    {
      "cell_type": "code",
      "metadata": {
        "id": "2p2QewtuoM_Q"
      },
      "source": [
        "# Implement a Queue - Using Two Stacks\r\n",
        "# Given the Stack class below, implement a Queue class using two stacks! Note, this is a \"classic\" interview problem. \r\n",
        "# Use a Python list data structure as your Stack."
      ],
      "execution_count": 53,
      "outputs": []
    },
    {
      "cell_type": "code",
      "metadata": {
        "id": "YKGKOvALq7PM"
      },
      "source": [
        "class MyQueue:\r\n",
        "\r\n",
        "    def __init__(self):\r\n",
        "        \"\"\"\r\n",
        "        Initialize your data structure here.\r\n",
        "        \"\"\"\r\n",
        "        self.stack1 = []\r\n",
        "        self.stack2 = []\r\n",
        "        \r\n",
        "\r\n",
        "    def push(self, x: int) -> None:\r\n",
        "        \"\"\"\r\n",
        "        Push element x to the back of queue.\r\n",
        "        \"\"\"\r\n",
        "        while self.stack1:\r\n",
        "            self.stack2.append(self.stack1.pop())\r\n",
        "        self.stack1.append(x)\r\n",
        "        while self.stack2:\r\n",
        "            self.stack1.append(self.stack2.pop())\r\n",
        "        \r\n",
        "\r\n",
        "    def pop(self) -> int:\r\n",
        "        \"\"\"\r\n",
        "        Removes the element from in front of queue and returns that element.\r\n",
        "        \"\"\"\r\n",
        "        return self.stack1.pop()\r\n",
        "        \r\n",
        "\r\n",
        "    def peek(self) -> int:\r\n",
        "        \"\"\"\r\n",
        "        Get the front element.\r\n",
        "        \"\"\"\r\n",
        "        return self.stack1[-1]\r\n",
        "        \r\n",
        "\r\n",
        "    def empty(self) -> bool:\r\n",
        "        \"\"\"\r\n",
        "        Returns whether the queue is empty.\r\n",
        "        \"\"\"\r\n",
        "        return len(self.stack1) == 0"
      ],
      "execution_count": 54,
      "outputs": []
    },
    {
      "cell_type": "code",
      "metadata": {
        "id": "NTrTqv2Iq9Fh"
      },
      "source": [
        ""
      ],
      "execution_count": null,
      "outputs": []
    }
  ]
}