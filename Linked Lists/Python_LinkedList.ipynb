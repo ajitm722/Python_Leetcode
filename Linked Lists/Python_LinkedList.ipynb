{
  "nbformat": 4,
  "nbformat_minor": 0,
  "metadata": {
    "colab": {
      "name": "Python_LinkedList.ipynb",
      "provenance": []
    },
    "kernelspec": {
      "name": "python3",
      "display_name": "Python 3"
    }
  },
  "cells": [
    {
      "cell_type": "code",
      "metadata": {
        "id": "86wh__fV3NSY"
      },
      "source": [
        "# #Singly Linked List\r\n",
        "# It is a collection of nodes that collectively form a sequence. Each node stores a reference to the next node in the linked list\r\n",
        "# List maintains a member named head to identify the first element of the list."
      ],
      "execution_count": 1,
      "outputs": []
    },
    {
      "cell_type": "code",
      "metadata": {
        "id": "_lZyhhV34CCu"
      },
      "source": [
        "class Node(object):\r\n",
        "  def __init__(self , value):\r\n",
        "    self.value = value\r\n",
        "    self.nextnode = None"
      ],
      "execution_count": 6,
      "outputs": []
    },
    {
      "cell_type": "code",
      "metadata": {
        "id": "9Meb1Tzp5HgE"
      },
      "source": [
        "a = Node(1)"
      ],
      "execution_count": 7,
      "outputs": []
    },
    {
      "cell_type": "code",
      "metadata": {
        "id": "iosgaTgC5Pb_"
      },
      "source": [
        "a.nextnode = Node(2)"
      ],
      "execution_count": 8,
      "outputs": []
    },
    {
      "cell_type": "code",
      "metadata": {
        "colab": {
          "base_uri": "https://localhost:8080/"
        },
        "id": "bfsIpGrZ5bt5",
        "outputId": "4ee84d2a-bdcb-476d-b1da-e5f78a82a9cc"
      },
      "source": [
        "a.nextnode.value"
      ],
      "execution_count": 9,
      "outputs": [
        {
          "output_type": "execute_result",
          "data": {
            "text/plain": [
              "2"
            ]
          },
          "metadata": {
            "tags": []
          },
          "execution_count": 9
        }
      ]
    },
    {
      "cell_type": "code",
      "metadata": {
        "id": "12qdbpi55fIk"
      },
      "source": [
        "#Doubly Linked List\r\n",
        "#Each node keeps an explicit reference to the node before it and after it , except head and tail"
      ],
      "execution_count": 10,
      "outputs": []
    },
    {
      "cell_type": "code",
      "metadata": {
        "id": "wUJqxdJL6xhC"
      },
      "source": [
        "class DLLNode(object):\r\n",
        "  def __init__(self , value):\r\n",
        "    self.value = value\r\n",
        "    self.nextnode = None\r\n",
        "    self.prevnode = None\r\n",
        "  "
      ],
      "execution_count": 11,
      "outputs": []
    },
    {
      "cell_type": "code",
      "metadata": {
        "id": "d46qO_cD7koV"
      },
      "source": [
        "x = DLLNode(1)\r\n",
        "y = DLLNode(2)\r\n",
        "z = DLLNode(3)"
      ],
      "execution_count": 13,
      "outputs": []
    },
    {
      "cell_type": "code",
      "metadata": {
        "id": "gpl9eEcr7oG-"
      },
      "source": [
        "y.nextnode = z\r\n",
        "y.prevnode = x"
      ],
      "execution_count": 14,
      "outputs": []
    },
    {
      "cell_type": "code",
      "metadata": {
        "colab": {
          "base_uri": "https://localhost:8080/"
        },
        "id": "0KL5_0TV7x46",
        "outputId": "fcd95a51-8f30-4a8d-ead9-ad1e9bae0a4e"
      },
      "source": [
        "y.prevnode.value"
      ],
      "execution_count": 15,
      "outputs": [
        {
          "output_type": "execute_result",
          "data": {
            "text/plain": [
              "1"
            ]
          },
          "metadata": {
            "tags": []
          },
          "execution_count": 15
        }
      ]
    },
    {
      "cell_type": "code",
      "metadata": {
        "id": "hYL3pYbE70ed"
      },
      "source": [
        "# 1. Singly Linked List Cycle Check\r\n",
        "# Problem\r\n",
        "# Given a singly linked list, write a function which takes in the first node in a singly linked list and returns a boolean indicating if the linked list contains a \"cycle\".\r\n",
        "\r\n",
        "# A cycle is when a node's next point actually points back to a previous node in the list. This is also sometimes known as a circularly linked list.\r\n",
        "\r\n",
        "# You've been given the Linked List Node class code:"
      ],
      "execution_count": 15,
      "outputs": []
    },
    {
      "cell_type": "code",
      "metadata": {
        "id": "ncAC8_0zCvRZ"
      },
      "source": [
        "class ListNode:\r\n",
        "    def __init__(self, x):\r\n",
        "        self.val = x\r\n",
        "        self.next = None\r\n",
        "\r\n",
        "class Solution:\r\n",
        "    def hasCycle(self, head: ListNode) -> bool:\r\n",
        "        fast = head\r\n",
        "        slow = head\r\n",
        "        while fast and fast.next:\r\n",
        "            fast = fast.next.next\r\n",
        "            slow = slow.next\r\n",
        "            if(fast == slow):\r\n",
        "                return True\r\n",
        "        return False"
      ],
      "execution_count": 17,
      "outputs": []
    },
    {
      "cell_type": "code",
      "metadata": {
        "id": "7-9bLE-TC3_g"
      },
      "source": [
        "# 2. Linked List Reversal\r\n",
        "# Problem\r\n",
        "# Write a function to reverse a Linked List in place. The function will take in the head of the list as input and return the new head of the list.\r\n",
        "\r\n",
        "# You are given the example Linked List Node class:"
      ],
      "execution_count": 17,
      "outputs": []
    },
    {
      "cell_type": "code",
      "metadata": {
        "id": "WoqXdTVPDjoP"
      },
      "source": [
        "class ListNode:\r\n",
        "    def __init__(self, val=0, next=None):\r\n",
        "        self.val = val\r\n",
        "        self.next = next\r\n",
        "\r\n",
        "class Solution:\r\n",
        "    def reverseList(self, head: ListNode) -> ListNode:\r\n",
        "        prev = None\r\n",
        "        curr = head\r\n",
        "        while curr:\r\n",
        "            n = curr.next\r\n",
        "            curr.next = prev\r\n",
        "            prev = curr\r\n",
        "            curr = n\r\n",
        "        return prev"
      ],
      "execution_count": 18,
      "outputs": []
    },
    {
      "cell_type": "code",
      "metadata": {
        "id": "nqi7u7tuDv5D"
      },
      "source": [
        "# 3. Linked List Nth to Last Node\r\n",
        "# Problem Statement\r\n",
        "# Write a function that takes a head node and an integer value n and then returns the nth to last node in the linked list. "
      ],
      "execution_count": 19,
      "outputs": []
    },
    {
      "cell_type": "code",
      "metadata": {
        "id": "Rt2D5YuFD94T"
      },
      "source": [
        "class ListNode:\r\n",
        "    def __init__(self, val=0, next=None):\r\n",
        "        self.val = val\r\n",
        "        self.next = next\r\n",
        "class Solution:\r\n",
        "    def removeNthFromEnd(self, head: ListNode, n: int) -> ListNode:\r\n",
        "        fast = head\r\n",
        "        slow = head\r\n",
        "        while n>0 and fast:\r\n",
        "            fast = fast.next\r\n",
        "            n -= 1\r\n",
        "        if not fast:\r\n",
        "            return head.next\r\n",
        "        while fast.next:\r\n",
        "            fast = fast.next\r\n",
        "            slow = slow.next\r\n",
        "        temp = slow.next\r\n",
        "        slow.next = temp.next\r\n",
        "        temp.next = None\r\n",
        "        return head"
      ],
      "execution_count": 20,
      "outputs": []
    },
    {
      "cell_type": "code",
      "metadata": {
        "id": "P0A1_HdEHHd9"
      },
      "source": [
        ""
      ],
      "execution_count": null,
      "outputs": []
    }
  ]
}