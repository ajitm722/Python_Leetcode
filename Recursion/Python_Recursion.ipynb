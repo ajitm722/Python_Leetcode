{
  "nbformat": 4,
  "nbformat_minor": 0,
  "metadata": {
    "colab": {
      "name": "Python_Recursion.ipynb",
      "provenance": []
    },
    "kernelspec": {
      "name": "python3",
      "display_name": "Python 3"
    }
  },
  "cells": [
    {
      "cell_type": "code",
      "metadata": {
        "id": "NLFph9scvfA_"
      },
      "source": [
        "# #RECURSION\r\n",
        "# Technique which is used to make one or more function-calls to itself\r\n",
        "# Provides a powerful alternative when using loops is not feasible"
      ],
      "execution_count": 1,
      "outputs": []
    },
    {
      "cell_type": "code",
      "metadata": {
        "id": "UlmmLaDWvlPS"
      },
      "source": [
        "def factorial(n):\r\n",
        "  if n==0:\r\n",
        "    return 1\r\n",
        "  return n*factorial(n-1)"
      ],
      "execution_count": 9,
      "outputs": []
    },
    {
      "cell_type": "code",
      "metadata": {
        "colab": {
          "base_uri": "https://localhost:8080/"
        },
        "id": "3ITU3mGzvq6H",
        "outputId": "60cef9d1-ce48-450a-eb39-874f328a7156"
      },
      "source": [
        "factorial(5)"
      ],
      "execution_count": 10,
      "outputs": [
        {
          "output_type": "execute_result",
          "data": {
            "text/plain": [
              "120"
            ]
          },
          "metadata": {
            "tags": []
          },
          "execution_count": 10
        }
      ]
    },
    {
      "cell_type": "code",
      "metadata": {
        "colab": {
          "base_uri": "https://localhost:8080/"
        },
        "id": "I3gSKhsWwTyh",
        "outputId": "22e5e412-ee26-4dea-daa4-0cd29be362f7"
      },
      "source": [
        "#Tail Recursion\r\n",
        "#The recursive function is called last and there is no need for function call to be pushed onto callstack\r\n",
        "def fact(n , a):\r\n",
        "  if n==0:\r\n",
        "    return a\r\n",
        "  return fact(n-1,n*a)\r\n",
        "#Wrapper functn for above:\r\n",
        "def factorial2(n):\r\n",
        "  return fact(n,1)\r\n",
        "\r\n",
        "factorial2(5)"
      ],
      "execution_count": 11,
      "outputs": [
        {
          "output_type": "execute_result",
          "data": {
            "text/plain": [
              "120"
            ]
          },
          "metadata": {
            "tags": []
          },
          "execution_count": 11
        }
      ]
    },
    {
      "cell_type": "code",
      "metadata": {
        "id": "NQCJsw3wxDrf"
      },
      "source": [
        "# Problem 1\r\n",
        "# Write a recursive function which takes an integer and computes the cumulative sum of 0 to that integer\r\n",
        "\r\n",
        "# For example, if n=4 , return 4+3+2+1+0, which is 10.\r\n",
        "\r\n",
        "# This problem is very similar to the factorial problem presented during the introduction to recursion. Remember, always think of what the base case will look like. In this case, we have a base case of n =0 (Note, you could have also designed the cut off to be 1).\r\n",
        "\r\n",
        "# In this case, we have: n + (n-1) + (n-2) + .... + 0"
      ],
      "execution_count": 12,
      "outputs": []
    },
    {
      "cell_type": "code",
      "metadata": {
        "colab": {
          "base_uri": "https://localhost:8080/"
        },
        "id": "_k72AnhyyCYU",
        "outputId": "29664ef0-bfe6-46ee-f5c3-7b14261d496c"
      },
      "source": [
        "def sum(n):\r\n",
        "  if(n==0):\r\n",
        "    return 0\r\n",
        "  return n+sum(n-1)\r\n",
        "sum(4)"
      ],
      "execution_count": 15,
      "outputs": [
        {
          "output_type": "execute_result",
          "data": {
            "text/plain": [
              "10"
            ]
          },
          "metadata": {
            "tags": []
          },
          "execution_count": 15
        }
      ]
    },
    {
      "cell_type": "code",
      "metadata": {
        "id": "5r-2CaDTyQmO"
      },
      "source": [
        "# Problem 2\r\n",
        "# Given an integer, create a function which returns the sum of all the individual digits in that integer. For example: if n = 4321, return 4+3+2+1"
      ],
      "execution_count": 16,
      "outputs": []
    },
    {
      "cell_type": "code",
      "metadata": {
        "colab": {
          "base_uri": "https://localhost:8080/"
        },
        "id": "yZxSze8Eydvy",
        "outputId": "78c36b70-c564-41fa-a8c2-f710a82bb62e"
      },
      "source": [
        "def digit_sum(n):\r\n",
        "  if(len(str(n)) == 1):\r\n",
        "    return n\r\n",
        "  return n%10 + digit_sum(n//10)\r\n",
        "digit_sum(4321)"
      ],
      "execution_count": 17,
      "outputs": [
        {
          "output_type": "execute_result",
          "data": {
            "text/plain": [
              "10"
            ]
          },
          "metadata": {
            "tags": []
          },
          "execution_count": 17
        }
      ]
    },
    {
      "cell_type": "code",
      "metadata": {
        "id": "S33Sm3zP3rxt"
      },
      "source": [
        "# Problem 3\r\n",
        "# Note, this is a more advanced problem than the previous two! It aso has a lot of variation possibilities and we're ignoring strict requirements here.\r\n",
        "\r\n",
        "# Create a function called word_split() which takes in a string phrase and a set list_of_words. The function will then determine if it is possible to split \r\n",
        "# the string in a way in which words can be made from the list of words. You can assume the phrase will only contain words found in the dictionary if it is completely splittable."
      ],
      "execution_count": 18,
      "outputs": []
    },
    {
      "cell_type": "code",
      "metadata": {
        "id": "PyN1NjMq7mwE"
      },
      "source": [
        "def word_split(phrase,list_of_words,output = None):\r\n",
        "  if output is None:\r\n",
        "    output = []\r\n",
        "  for word in list_of_words:\r\n",
        "    if phrase.startswith(word):\r\n",
        "      output.append(word)\r\n",
        "      return word_split(phrase[len(word):] , list_of_words , output)\r\n",
        "  \r\n",
        "  return output"
      ],
      "execution_count": 19,
      "outputs": []
    },
    {
      "cell_type": "code",
      "metadata": {
        "colab": {
          "base_uri": "https://localhost:8080/"
        },
        "id": "e-MMT-si8zAa",
        "outputId": "2d3ef81c-e8e2-42d8-8987-374b98147c07"
      },
      "source": [
        "word_split('themanran',['the','ran','man'])\r\n"
      ],
      "execution_count": 20,
      "outputs": [
        {
          "output_type": "execute_result",
          "data": {
            "text/plain": [
              "['the', 'man', 'ran']"
            ]
          },
          "metadata": {
            "tags": []
          },
          "execution_count": 20
        }
      ]
    },
    {
      "cell_type": "code",
      "metadata": {
        "colab": {
          "base_uri": "https://localhost:8080/"
        },
        "id": "k8BO_4xm835h",
        "outputId": "ceb84e0a-eacd-4034-c937-47084bcb235d"
      },
      "source": [
        "word_split('ilovedogsJohn',['i','am','a','dogs','lover','love','John'])"
      ],
      "execution_count": 21,
      "outputs": [
        {
          "output_type": "execute_result",
          "data": {
            "text/plain": [
              "['i', 'love', 'dogs', 'John']"
            ]
          },
          "metadata": {
            "tags": []
          },
          "execution_count": 21
        }
      ]
    },
    {
      "cell_type": "code",
      "metadata": {
        "colab": {
          "base_uri": "https://localhost:8080/"
        },
        "id": "foSBkNHg9F5Z",
        "outputId": "60901d26-18bf-49de-c3a2-c67307199af6"
      },
      "source": [
        "word_split('themanran',['clown','ran','man'])"
      ],
      "execution_count": 22,
      "outputs": [
        {
          "output_type": "execute_result",
          "data": {
            "text/plain": [
              "[]"
            ]
          },
          "metadata": {
            "tags": []
          },
          "execution_count": 22
        }
      ]
    },
    {
      "cell_type": "code",
      "metadata": {
        "id": "T5xE0Ex09JG7"
      },
      "source": [
        "# #Memoization\r\n",
        "# It is an optimization technique\r\n",
        "# It refers to remembering the results of method calls and then returning the remembered result rather than computing it again and again"
      ],
      "execution_count": 23,
      "outputs": []
    },
    {
      "cell_type": "code",
      "metadata": {
        "id": "tyRrzMdR96QR"
      },
      "source": [
        "# Create cache for known results\r\n",
        "factorial_memo = {}\r\n",
        "\r\n",
        "def factorial(k):\r\n",
        "    \r\n",
        "    if k < 2: \r\n",
        "        return 1\r\n",
        "    \r\n",
        "    if not k in factorial_memo:\r\n",
        "        factorial_memo[k] = k * factorial(k-1)\r\n",
        "        \r\n",
        "    return factorial_memo[k]\r\n"
      ],
      "execution_count": 24,
      "outputs": []
    },
    {
      "cell_type": "code",
      "metadata": {
        "id": "cX7XURZY-IoL"
      },
      "source": [
        "###INTERVIEW PROBLEMS###\r\n",
        "# 1. Reverse a String\r\n",
        "# This interview question requires you to reverse a string using recursion. Make sure to think of the base case here.\r\n",
        "\r\n",
        "# Again, make sure you use recursion to accomplish this. Do not slice (e.g. string[::-1]) or use iteration, there must be a recursive call for the function."
      ],
      "execution_count": 25,
      "outputs": []
    },
    {
      "cell_type": "code",
      "metadata": {
        "colab": {
          "base_uri": "https://localhost:8080/",
          "height": 35
        },
        "id": "nlI43uqp_HDf",
        "outputId": "001fd39b-6599-4afa-b8f4-f9f32e9d754c"
      },
      "source": [
        "def reverse(s):\r\n",
        "  if len(s) <= 1:\r\n",
        "    return s\r\n",
        "  \r\n",
        "  m = int(len(s)/2)\r\n",
        "  return reverse(s[m:]) + reverse(s[:m])\r\n",
        "reverse('Hello World!')"
      ],
      "execution_count": 29,
      "outputs": [
        {
          "output_type": "execute_result",
          "data": {
            "application/vnd.google.colaboratory.intrinsic+json": {
              "type": "string"
            },
            "text/plain": [
              "'!dlroW olleH'"
            ]
          },
          "metadata": {
            "tags": []
          },
          "execution_count": 29
        }
      ]
    },
    {
      "cell_type": "code",
      "metadata": {
        "colab": {
          "base_uri": "https://localhost:8080/"
        },
        "id": "uce-NJyXAwMr",
        "outputId": "49a7c93c-8fe2-45ec-d5e6-f642a7d8e2e3"
      },
      "source": [
        "# #2. Implement A Fibonacci sequence\r\n",
        "# Function Output\r\n",
        "# Your function will accept a number n and return the nth number of the fibonacci sequence\r\n",
        "\r\n",
        "# Remember that a fibonacci sequence: 0,1,1,2,3,5,8,13,21,... starts off with a base case checking to see if n = 0 or 1, then it returns 1.\r\n",
        "\r\n",
        "# Else it returns fib(n-1)+fib(n+2).\r\n",
        "def fib_rec(n):\r\n",
        "    if n <=2:\r\n",
        "        return int((n+1)/2)\r\n",
        "    else:\r\n",
        "        return fib_rec(n-1) + fib_rec(n-2)\r\n",
        "fib_rec(6)"
      ],
      "execution_count": 32,
      "outputs": [
        {
          "output_type": "execute_result",
          "data": {
            "text/plain": [
              "8"
            ]
          },
          "metadata": {
            "tags": []
          },
          "execution_count": 32
        }
      ]
    },
    {
      "cell_type": "code",
      "metadata": {
        "colab": {
          "base_uri": "https://localhost:8080/"
        },
        "id": "2-kbur2zBaff",
        "outputId": "e2dc338d-00b9-4785-91cd-c104e8ccf29e"
      },
      "source": [
        "#Iteratively\r\n",
        "def fib_iter(n):\r\n",
        "  a = 0\r\n",
        "  b = 1\r\n",
        "  for i in range(n):\r\n",
        "    a , b = b , a + b\r\n",
        "  return a\r\n",
        "fib_iter(6)"
      ],
      "execution_count": 33,
      "outputs": [
        {
          "output_type": "execute_result",
          "data": {
            "text/plain": [
              "8"
            ]
          },
          "metadata": {
            "tags": []
          },
          "execution_count": 33
        }
      ]
    },
    {
      "cell_type": "code",
      "metadata": {
        "id": "Aq38MYYfAKS9"
      },
      "source": [
        "# 3.String Permutation\r\n",
        "# Problem Statement\r\n",
        "# Given a string, write a function that uses recursion to output a list of all the possible permutations of that string.\r\n",
        "\r\n",
        "# For example, given s='abc' the function should return ['abc', 'acb', 'bac', 'bca', 'cab', 'cba']\r\n",
        "\r\n",
        "# Note: If a character is repeated, treat each occurence as distinct, for example an input of 'xxx' would return a list with 6 \"versions\" of 'xxx'"
      ],
      "execution_count": null,
      "outputs": []
    },
    {
      "cell_type": "code",
      "metadata": {
        "id": "42hWM6HR_Lbo"
      },
      "source": [
        "# Enumerate() method adds a counter to an iterable and returns it in a form of enumerate object. This enumerate object can then be used directly in\r\n",
        "#  for loops or be converted into a list of tuples using list() method.\r\n",
        "# Syntax: \r\n",
        "\r\n",
        "# enumerate(iterable, start=0)\r\n",
        "\r\n",
        "# Parameters:\r\n",
        "# Iterable: any object that supports iteration\r\n",
        "# Start: the index value from which the counter is \r\n",
        "#               to be started, by default it is 0"
      ],
      "execution_count": null,
      "outputs": []
    },
    {
      "cell_type": "code",
      "metadata": {
        "colab": {
          "base_uri": "https://localhost:8080/"
        },
        "id": "SloUsoOLHX7e",
        "outputId": "b85e4958-9b46-4f33-e226-657a5a04fb84"
      },
      "source": [
        "def permute(s):\r\n",
        "  out = []\r\n",
        "  if len(s) == 1:\r\n",
        "    out = [s]\r\n",
        "  else:\r\n",
        "    #for every letter in string\r\n",
        "    for i,let in enumerate(s):\r\n",
        "      #for every permutation resulting from step 2 and 3\r\n",
        "      for perm in permute( s[:i] + s[i+1:]):\r\n",
        "        out += [let + perm]\r\n",
        "        print(out)\r\n",
        "  return out\r\n",
        "permute('abc')"
      ],
      "execution_count": 38,
      "outputs": [
        {
          "output_type": "stream",
          "text": [
            "['bc']\n",
            "['bc', 'cb']\n",
            "['abc']\n",
            "['abc', 'acb']\n",
            "['ac']\n",
            "['ac', 'ca']\n",
            "['abc', 'acb', 'bac']\n",
            "['abc', 'acb', 'bac', 'bca']\n",
            "['ab']\n",
            "['ab', 'ba']\n",
            "['abc', 'acb', 'bac', 'bca', 'cab']\n",
            "['abc', 'acb', 'bac', 'bca', 'cab', 'cba']\n"
          ],
          "name": "stdout"
        },
        {
          "output_type": "execute_result",
          "data": {
            "text/plain": [
              "['abc', 'acb', 'bac', 'bca', 'cab', 'cba']"
            ]
          },
          "metadata": {
            "tags": []
          },
          "execution_count": 38
        }
      ]
    },
    {
      "cell_type": "code",
      "metadata": {
        "colab": {
          "base_uri": "https://localhost:8080/",
          "height": 35
        },
        "id": "wmytRvzRI5H7",
        "outputId": "c8a6254b-2a5b-4643-b90f-d7a460c67963"
      },
      "source": [
        ""
      ],
      "execution_count": 37,
      "outputs": [
        {
          "output_type": "execute_result",
          "data": {
            "application/vnd.google.colaboratory.intrinsic+json": {
              "type": "string"
            },
            "text/plain": [
              "'bc'"
            ]
          },
          "metadata": {
            "tags": []
          },
          "execution_count": 37
        }
      ]
    },
    {
      "cell_type": "code",
      "metadata": {
        "id": "Fb499A_hJwfT"
      },
      "source": [
        ""
      ],
      "execution_count": null,
      "outputs": []
    }
  ]
}