{
  "nbformat": 4,
  "nbformat_minor": 0,
  "metadata": {
    "colab": {
      "name": "Python_SearchingAndSorting.ipynb",
      "provenance": []
    },
    "kernelspec": {
      "name": "python3",
      "display_name": "Python 3"
    }
  },
  "cells": [
    {
      "cell_type": "code",
      "metadata": {
        "colab": {
          "base_uri": "https://localhost:8080/"
        },
        "id": "4awy7z0e3Cdh",
        "outputId": "7879d6b4-2e7a-4713-c0a6-b9eb48533baf"
      },
      "source": [
        "#Normal Sequential Search\n",
        "def seq_search(arr,ele):\n",
        "    \"\"\"\n",
        "    General Sequential Search. Works on Unordered lists.\n",
        "    \"\"\"\n",
        "    \n",
        "    # Start at position 0\n",
        "    pos = 0\n",
        "    \n",
        "    # go until end of list\n",
        "    while pos < len(arr):\n",
        "        \n",
        "        # If match\n",
        "        if arr[pos] == ele:\n",
        "            return pos + 1\n",
        "            \n",
        "        # Else move one down\n",
        "        else:\n",
        "            pos  = pos+1\n",
        "    \n",
        "    return -1\n",
        "seq_search([1,2,3,4],3)"
      ],
      "execution_count": null,
      "outputs": [
        {
          "output_type": "execute_result",
          "data": {
            "text/plain": [
              "3"
            ]
          },
          "metadata": {
            "tags": []
          },
          "execution_count": 3
        }
      ]
    },
    {
      "cell_type": "code",
      "metadata": {
        "id": "GMnqLuF73tD8"
      },
      "source": [
        "#Binary Search\n",
        "#Only works on sorted lists"
      ],
      "execution_count": null,
      "outputs": []
    },
    {
      "cell_type": "code",
      "metadata": {
        "colab": {
          "base_uri": "https://localhost:8080/"
        },
        "id": "WMREC2cT4r76",
        "outputId": "0abfaf4f-046f-4b23-b959-02b76cd7d42c"
      },
      "source": [
        "def binary_search(arr,ele):\n",
        "    \n",
        "    # First and last index values\n",
        "    first = 0\n",
        "    last = len(arr) - 1\n",
        "    \n",
        "    while first <= last:\n",
        "        \n",
        "        mid = (first+last)//2 # or // for Python 3\n",
        "        \n",
        "        # Match found\n",
        "        if arr[mid] == ele:\n",
        "          return mid\n",
        "        elif arr[mid] > ele:\n",
        "          last = mid - 1\n",
        "        else:\n",
        "          first = mid + 1\n",
        "    return -1\n",
        "binary_search([1,2,3,4,5],2)"
      ],
      "execution_count": null,
      "outputs": [
        {
          "output_type": "execute_result",
          "data": {
            "text/plain": [
              "1"
            ]
          },
          "metadata": {
            "tags": []
          },
          "execution_count": 8
        }
      ]
    },
    {
      "cell_type": "code",
      "metadata": {
        "id": "pw3-fKar47Xa"
      },
      "source": [
        "#if we dont know the size of the array\n",
        "# Suppose we have an array and that is sorted in ascending order, we have to define a function to search target in nums. If the target is present,\n",
        "# then return its index, otherwise, return -1.\n",
        "# The array size is not known. We can only access the array using an ArrayReader interface. There is a get function like ArrayReader.get(k) this will\n",
        "# return the element of the array at index k.\n",
        "# So, if the input is like array = [-1,0,3,5,9,12], target = 9, then the output will be 4 as 9 exists in nums and its index is 4\n",
        "# To solve this, we will follow these steps −\n",
        "# high := 1, low := 0\n",
        "# while get(high) of reader < target, do −\n",
        "# low := high\n",
        "# high = high * 2\n",
        "# while low <= high, do −\n",
        "# mid := low + (high - low) / 2\n",
        "# x := get(mid) of reader\n",
        "# if x is same as target, then −\n",
        "# return mid\n",
        "# if x > target, then −\n",
        "# high := mid - 1\n",
        "# Otherwise\n",
        "# low := mid + 1\n",
        "# return -1"
      ],
      "execution_count": null,
      "outputs": []
    },
    {
      "cell_type": "code",
      "metadata": {
        "id": "KqnDQ_9g7A-Q"
      },
      "source": [
        "# Map\n",
        "# The idea of a dictionary used as a hash table to get and retrieve items using keys is often referred to as a mapping. \n",
        "# In our implementation we will have the following methods:\n",
        "# HashTable() Create a new, empty map. It returns an empty map collection.\n",
        "# put(key,val) Add a new key-value pair to the map. If the key is already in the map then replace the old value with the new value.\n",
        "# get(key) Given a key, return the value stored in the map or None otherwise.\n",
        "# del Delete the key-value pair from the map using a statement of the form del map[key].\n",
        "# len() Return the number of key-value pairs stored\n",
        "# in the map in Return True for a statement of the form key in map, if the given key is in the map, False otherwise."
      ],
      "execution_count": null,
      "outputs": []
    },
    {
      "cell_type": "code",
      "metadata": {
        "id": "0TJvxv2U7eeM"
      },
      "source": [
        "class HashTable(object):\n",
        "    \n",
        "    def __init__(self,size):\n",
        "        \n",
        "        # Set up size and slots and data\n",
        "        self.size = size\n",
        "        self.slots = [None] * self.size\n",
        "        self.data = [None] * self.size\n",
        "        \n",
        "    def put(self,key,data):\n",
        "        #Note, we'll only use integer keys for ease of use with the Hash Function\n",
        "        \n",
        "        # Get the hash value\n",
        "        hashvalue = self.hashfunction(key,len(self.slots))\n",
        "\n",
        "        # If Slot is Empty\n",
        "        if self.slots[hashvalue] == None:\n",
        "            self.slots[hashvalue] = key\n",
        "            self.data[hashvalue] = data\n",
        "        \n",
        "        else:\n",
        "            \n",
        "            # If key already exists, replace old value\n",
        "            if self.slots[hashvalue] == key:\n",
        "                self.data[hashvalue] = data  \n",
        "            \n",
        "            # Otherwise, find the next available slot\n",
        "            else:\n",
        "                \n",
        "                nextslot = self.rehash(hashvalue,len(self.slots))\n",
        "                \n",
        "                # Get to the next slot\n",
        "                while self.slots[nextslot] != None and self.slots[nextslot] != key:\n",
        "                    nextslot = self.rehash(nextslot,len(self.slots))\n",
        "                \n",
        "                # Set new key, if NONE\n",
        "                if self.slots[nextslot] == None:\n",
        "                    self.slots[nextslot]=key\n",
        "                    self.data[nextslot]=data\n",
        "                    \n",
        "                # Otherwise replace old value\n",
        "                else:\n",
        "                    self.data[nextslot] = data \n",
        "\n",
        "    def hashfunction(self,key,size):\n",
        "        # Remainder Method\n",
        "        return key%size\n",
        "\n",
        "    def rehash(self,oldhash,size):\n",
        "        # For finding next possible positions\n",
        "        return (oldhash+1)%size\n",
        "    \n",
        "    \n",
        "    def get(self,key):\n",
        "        \n",
        "        # Getting items given a key\n",
        "        \n",
        "        # Set up variables for our search\n",
        "        startslot = self.hashfunction(key,len(self.slots))\n",
        "        data = None\n",
        "        stop = False\n",
        "        found = False\n",
        "        position = startslot\n",
        "        \n",
        "        # Until we discern that its not empty or found (and haven't stopped yet)\n",
        "        while self.slots[position] != None and not found and not stop:\n",
        "            \n",
        "            if self.slots[position] == key:\n",
        "                found = True\n",
        "                data = self.data[position]\n",
        "                \n",
        "            else:\n",
        "                position=self.rehash(position,len(self.slots))\n",
        "                if position == startslot:\n",
        "                    \n",
        "                    stop = True\n",
        "        return data\n",
        "\n",
        "    # Special Methods for use with Python indexing\n",
        "    def __getitem__(self,key):\n",
        "        return self.get(key)\n",
        "\n",
        "    def __setitem__(self,key,data):\n",
        "        self.put(key,data)"
      ],
      "execution_count": null,
      "outputs": []
    },
    {
      "cell_type": "code",
      "metadata": {
        "id": "bg4R96S18COK"
      },
      "source": [
        "# Implementation of a Bubble Sort\n",
        "# The bubble sort makes multiple passes through a list. It compares adjacent items and exchanges those that are out of order. Each pass through the list \n",
        "# places the next largest value in its proper place. In essence, each item “bubbles” up to the location where it belongs."
      ],
      "execution_count": 1,
      "outputs": []
    },
    {
      "cell_type": "code",
      "metadata": {
        "id": "GCzAc5gVJ9DB"
      },
      "source": [
        "def bubble_sort(arr):\n",
        "    # For every element (arranged backwards)\n",
        "    for n in range(len(arr)-1,0,-1):\n",
        "        #\n",
        "        for k in range(n):\n",
        "            # If we come to a point to switch\n",
        "            if arr[k]>arr[k+1]:\n",
        "                temp = arr[k]\n",
        "                arr[k] = arr[k+1]\n",
        "                arr[k+1] = temp\n",
        "arr = [3,2,13,4,6,5,7,8,1,20]\n",
        "bubble_sort(arr)"
      ],
      "execution_count": 2,
      "outputs": []
    },
    {
      "cell_type": "code",
      "metadata": {
        "colab": {
          "base_uri": "https://localhost:8080/"
        },
        "id": "AfTJEl-2KHrz",
        "outputId": "49e69901-1ebe-4c8b-b1dd-dabc2fb2ef4e"
      },
      "source": [
        "arr"
      ],
      "execution_count": 3,
      "outputs": [
        {
          "output_type": "execute_result",
          "data": {
            "text/plain": [
              "[1, 2, 3, 4, 5, 6, 7, 8, 13, 20]"
            ]
          },
          "metadata": {
            "tags": []
          },
          "execution_count": 3
        }
      ]
    },
    {
      "cell_type": "code",
      "metadata": {
        "id": "6ks7bKhyKIk3"
      },
      "source": [
        "# Implementation of Insertion Sort\n",
        "# Insertion Sort builds the final sorted array (or list) one item at a time. It is much less efficient on large lists than more advanced algorithms\n",
        "#  such as quicksort, heapsort, or merge sort."
      ],
      "execution_count": 4,
      "outputs": []
    },
    {
      "cell_type": "code",
      "metadata": {
        "colab": {
          "base_uri": "https://localhost:8080/"
        },
        "id": "vsRvJKUVKVvE",
        "outputId": "13b09da8-de52-4a9c-d966-26db1000f0ec"
      },
      "source": [
        "def insertion_sort(arr):\n",
        "    \n",
        "    # For every index in array\n",
        "    for i in range(1,len(arr)):\n",
        "        \n",
        "        # Set current values and position\n",
        "        currentvalue = arr[i]\n",
        "        position = i\n",
        "        \n",
        "        # Sorted Sublist\n",
        "        while position>0 and arr[position-1]>currentvalue:\n",
        "            \n",
        "            arr[position]=arr[position-1]\n",
        "            position = position-1\n",
        "\n",
        "        arr[position]=currentvalue\n",
        "arr =[3,5,4,6,8,1,2,12,41,25]\n",
        "insertion_sort(arr)\n",
        "arr"
      ],
      "execution_count": 5,
      "outputs": [
        {
          "output_type": "execute_result",
          "data": {
            "text/plain": [
              "[1, 2, 3, 4, 5, 6, 8, 12, 25, 41]"
            ]
          },
          "metadata": {
            "tags": []
          },
          "execution_count": 5
        }
      ]
    },
    {
      "cell_type": "code",
      "metadata": {
        "colab": {
          "base_uri": "https://localhost:8080/"
        },
        "id": "pzNsX0kCKj8M",
        "outputId": "4e835538-f82c-4750-d1f8-fd0759c65f88"
      },
      "source": [
        "# Implementation of Selection Sort\n",
        "# The selection sort improves on the bubble sort by making only one exchange for every pass through the list. In order to do this, a selection sort looks for the \n",
        "# largest value as it makes a pass and, after completing the pass, places it in the proper location. As with a bubble sort, after the first pass, the largest item \n",
        "# is in the correct place. After the second pass, the next largest is in place. This process continues and requires n−1 passes to sort n items, since the final item \n",
        "# must be in place after the (n−1) st pass.\n",
        "def selection_sort(arr):\n",
        "    \n",
        "    # For every slot in array\n",
        "    for fillslot in range(len(arr)-1,0,-1):\n",
        "        positionOfMax=0\n",
        "        \n",
        "        # For every set of 0 to fillslot+1\n",
        "        for location in range(1,fillslot+1):\n",
        "            # Set maximum's location\n",
        "            if arr[location]>arr[positionOfMax]:\n",
        "                positionOfMax = location\n",
        "\n",
        "        temp = arr[fillslot]\n",
        "        arr[fillslot] = arr[positionOfMax]\n",
        "        arr[positionOfMax] = temp\n",
        "arr = [3,5,2,7,6,8,12,40,21]\n",
        "selection_sort(arr)\n",
        "arr"
      ],
      "execution_count": 6,
      "outputs": [
        {
          "output_type": "execute_result",
          "data": {
            "text/plain": [
              "[2, 3, 5, 6, 7, 8, 12, 21, 40]"
            ]
          },
          "metadata": {
            "tags": []
          },
          "execution_count": 6
        }
      ]
    },
    {
      "cell_type": "code",
      "metadata": {
        "id": "AF6qkg3eK-qe"
      },
      "source": [
        "# Implementation of Merge Sort\n",
        "# Merge sort is a recursive algorithm that continually splits a list in half. If the list is empty or has one item, it is sorted by definition (the base case).\n",
        "#  If the list has more than one item, we split the list and recursively invoke a merge sort on both halves. Once the two halves are sorted, the fundamental \n",
        "#  operation, called a merge, is performed. Merging is the process of taking two smaller sorted lists and combining them together into a single, sorted, new list."
      ],
      "execution_count": 7,
      "outputs": []
    },
    {
      "cell_type": "code",
      "metadata": {
        "colab": {
          "base_uri": "https://localhost:8080/"
        },
        "id": "M_Vc3dFmLU1v",
        "outputId": "cb468c5e-9e22-4b76-dbf5-7bb564bd9de3"
      },
      "source": [
        "def merge_sort(arr):\n",
        "    \n",
        "    if len(arr)>1:\n",
        "        mid = len(arr)//2\n",
        "        lefthalf = arr[:mid]\n",
        "        righthalf = arr[mid:]\n",
        "\n",
        "        merge_sort(lefthalf)\n",
        "        merge_sort(righthalf)\n",
        "\n",
        "        i=0\n",
        "        j=0\n",
        "        k=0\n",
        "        while i < len(lefthalf) and j < len(righthalf):\n",
        "            if lefthalf[i] < righthalf[j]:\n",
        "                arr[k]=lefthalf[i]\n",
        "                i=i+1\n",
        "            else:\n",
        "                arr[k]=righthalf[j]\n",
        "                j=j+1\n",
        "            k=k+1\n",
        "\n",
        "        while i < len(lefthalf):\n",
        "            arr[k]=lefthalf[i]\n",
        "            i=i+1\n",
        "            k=k+1\n",
        "\n",
        "        while j < len(righthalf):\n",
        "            arr[k]=righthalf[j]\n",
        "            j=j+1\n",
        "            k=k+1\n",
        "arr = [11,2,5,4,7,6,8,1,23]\n",
        "merge_sort(arr)\n",
        "arr"
      ],
      "execution_count": 9,
      "outputs": [
        {
          "output_type": "execute_result",
          "data": {
            "text/plain": [
              "[1, 2, 4, 5, 6, 7, 8, 11, 23]"
            ]
          },
          "metadata": {
            "tags": []
          },
          "execution_count": 9
        }
      ]
    },
    {
      "cell_type": "code",
      "metadata": {
        "id": "LycyLztfLYAW"
      },
      "source": [
        "# Implementation of Quick Sort\n",
        "# A quick sort first selects a value, which is called the pivot value. Although there are many different ways to choose the pivot value, we will simply \n",
        "# use the first item in the list. The role of the pivot value is to assist with splitting the list. The actual position where the pivot value belongs in \n",
        "# the final sorted list, commonly called the split point, will be used to divide the list for subsequent calls to the quick sort."
      ],
      "execution_count": 10,
      "outputs": []
    },
    {
      "cell_type": "code",
      "metadata": {
        "colab": {
          "base_uri": "https://localhost:8080/"
        },
        "id": "Ib7gBkEnNq7d",
        "outputId": "69006358-a5de-4498-a3ee-3219f821ac44"
      },
      "source": [
        "def quick_sort(arr):\n",
        "    \n",
        "    quick_sort_help(arr,0,len(arr)-1)\n",
        "\n",
        "def quick_sort_help(arr,first,last):\n",
        "    \n",
        "    if first<last:\n",
        "        \n",
        "\n",
        "        splitpoint = partition(arr,first,last)\n",
        "\n",
        "        quick_sort_help(arr,first,splitpoint-1)\n",
        "        quick_sort_help(arr,splitpoint+1,last)\n",
        "\n",
        "\n",
        "def partition(arr,first,last):\n",
        "    \n",
        "    pivotvalue = arr[first]\n",
        "\n",
        "    leftmark = first+1\n",
        "    rightmark = last\n",
        "\n",
        "    done = False\n",
        "    while not done:\n",
        "\n",
        "        while leftmark <= rightmark and arr[leftmark] <= pivotvalue:\n",
        "            leftmark = leftmark + 1\n",
        "\n",
        "        while arr[rightmark] >= pivotvalue and rightmark >= leftmark:\n",
        "            rightmark = rightmark -1\n",
        "\n",
        "        if rightmark < leftmark:\n",
        "            done = True\n",
        "        else:\n",
        "            temp = arr[leftmark]\n",
        "            arr[leftmark] = arr[rightmark]\n",
        "            arr[rightmark] = temp\n",
        "\n",
        "    temp = arr[first]\n",
        "    arr[first] = arr[rightmark]\n",
        "    arr[rightmark] = temp\n",
        "\n",
        "\n",
        "    return rightmark\n",
        "arr = [2,5,4,6,7,3,1,4,12,11]\n",
        "quick_sort(arr)\n",
        "arr"
      ],
      "execution_count": 11,
      "outputs": [
        {
          "output_type": "execute_result",
          "data": {
            "text/plain": [
              "[1, 2, 3, 4, 4, 5, 6, 7, 11, 12]"
            ]
          },
          "metadata": {
            "tags": []
          },
          "execution_count": 11
        }
      ]
    },
    {
      "cell_type": "code",
      "metadata": {
        "id": "I0hErwc2NvjB"
      },
      "source": [
        "# Implementation of Shell Sort\n",
        "# The shell sort improves on the insertion sort by breaking the original list into a number of smaller sublists, each of which is sorted using an \n",
        "# insertion sort. The unique way that these sublists are chosen is the key to the shell sort. Instead of breaking the list into sublists of contiguous \n",
        "# items, the shell sort uses an increment i, sometimes called the gap, to create a sublist by choosing all items that are i items apart."
      ],
      "execution_count": 12,
      "outputs": []
    },
    {
      "cell_type": "code",
      "metadata": {
        "colab": {
          "base_uri": "https://localhost:8080/"
        },
        "id": "Pxxlod9rN_6y",
        "outputId": "3c6b453d-1c6d-4179-fa9f-3c771b9be1a7"
      },
      "source": [
        "def shell_sort(arr):\n",
        "    sublistcount = len(arr) // 2\n",
        "    \n",
        "    # While we still have sub lists\n",
        "    while sublistcount > 0:\n",
        "        for start in range(sublistcount):\n",
        "            # Use a gap insertion\n",
        "            gap_insertion_sort(arr,start,sublistcount)\n",
        "\n",
        "      \n",
        "\n",
        "        sublistcount = sublistcount // 2\n",
        "\n",
        "def gap_insertion_sort(arr,start,gap):\n",
        "    for i in range(start+gap,len(arr),gap):\n",
        "\n",
        "        currentvalue = arr[i]\n",
        "        position = i\n",
        "\n",
        "        # Using the Gap\n",
        "        while position>=gap and arr[position-gap]>currentvalue:\n",
        "            arr[position]=arr[position-gap]\n",
        "            position = position-gap\n",
        "        \n",
        "        # Set current value\n",
        "        arr[position]=currentvalue\n",
        "arr = [45,67,23,45,21,24,7,2,6,4,90]\n",
        "shell_sort(arr)\n",
        "arr"
      ],
      "execution_count": 15,
      "outputs": [
        {
          "output_type": "execute_result",
          "data": {
            "text/plain": [
              "[2, 4, 6, 7, 21, 23, 24, 45, 45, 67, 90]"
            ]
          },
          "metadata": {
            "tags": []
          },
          "execution_count": 15
        }
      ]
    },
    {
      "cell_type": "code",
      "metadata": {
        "id": "ivqandC-OL8u"
      },
      "source": [
        ""
      ],
      "execution_count": null,
      "outputs": []
    }
  ]
}