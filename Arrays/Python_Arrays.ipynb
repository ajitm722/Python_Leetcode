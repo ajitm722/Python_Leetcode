{
  "nbformat": 4,
  "nbformat_minor": 0,
  "metadata": {
    "colab": {
      "name": "Python_Arrays.ipynb",
      "provenance": [],
      "collapsed_sections": []
    },
    "kernelspec": {
      "name": "python3",
      "display_name": "Python 3"
    }
  },
  "cells": [
    {
      "cell_type": "code",
      "metadata": {
        "id": "9YpmHnMkggtF"
      },
      "source": [
        "#Arrays-  Construction and interview problems"
      ],
      "execution_count": null,
      "outputs": []
    },
    {
      "cell_type": "code",
      "metadata": {
        "colab": {
          "base_uri": "https://localhost:8080/"
        },
        "id": "kCWUVVeKhRbI",
        "outputId": "66b350f8-1bfb-4f7a-a38e-bcd9998322db"
      },
      "source": [
        "#shallow copy references to the elements from previous list\r\n",
        "#deep copy creates new list with new elements(different reference)"
      ],
      "execution_count": null,
      "outputs": [
        {
          "output_type": "execute_result",
          "data": {
            "text/plain": [
              "[1]"
            ]
          },
          "metadata": {
            "tags": []
          },
          "execution_count": 4
        }
      ]
    },
    {
      "cell_type": "code",
      "metadata": {
        "colab": {
          "base_uri": "https://localhost:8080/"
        },
        "id": "jlmSGf49lv-7",
        "outputId": "853eb3a6-bd1f-4673-9543-6d3e6556d02c"
      },
      "source": [
        "#Dynamic Arrays:\r\n",
        "#You need not specify how large the arraysize is beforehand\r\n",
        "import sys\r\n",
        "n = 10\r\n",
        "data = []\r\n",
        "for i in range(n):\r\n",
        "  a = len(data)\r\n",
        "  b = sys.getsizeof(data)\r\n",
        "  print('Length:{} , Size in Bytes:{}'.format(a,b))\r\n",
        "  data.append(n)\r\n",
        "#we can see size increases in chunks, it grabs more memory as and when required"
      ],
      "execution_count": null,
      "outputs": [
        {
          "output_type": "stream",
          "text": [
            "Length:0 , Size in Bytes:72\n",
            "Length:1 , Size in Bytes:104\n",
            "Length:2 , Size in Bytes:104\n",
            "Length:3 , Size in Bytes:104\n",
            "Length:4 , Size in Bytes:104\n",
            "Length:5 , Size in Bytes:136\n",
            "Length:6 , Size in Bytes:136\n",
            "Length:7 , Size in Bytes:136\n",
            "Length:8 , Size in Bytes:136\n",
            "Length:9 , Size in Bytes:200\n"
          ],
          "name": "stdout"
        }
      ]
    },
    {
      "cell_type": "code",
      "metadata": {
        "id": "pewfEkfsmyJF"
      },
      "source": [
        "#Dynamic Array Implementation\r\n",
        "#ctypes is a foreign function library for Python. It provides C compatible data types, and \r\n",
        "#allows calling functions in DLLs or shared libraries. It can be used to wrap these libraries in pure Python.\r\n",
        "import ctypes\r\n",
        "\r\n",
        "class DynamicArray(object):\r\n",
        "  def __init__(self):\r\n",
        "    self.n = 0 #count actual elements(by default:0)\r\n",
        "    self.capacity = 1 #Actual capacity\r\n",
        "    self.A = self.make_array(self.capacity) #we build this function later\r\n",
        "\r\n",
        "  def length(self):\r\n",
        "    return self.n\r\n",
        "\r\n",
        "  def capacity(self):\r\n",
        "    return self.capacity\r\n",
        "\r\n",
        "  def __getitem__(self , k):\r\n",
        "    #returns element at index k\r\n",
        "    if not 0 <= k <= self.n:\r\n",
        "      return IndexError('k is out of bounds!')\r\n",
        "    return self.A[k]\r\n",
        "\r\n",
        "  def append(self,ele):\r\n",
        "    if self.n == self.capacity:\r\n",
        "      self._resize(2*self.capacity) #2x if capacity isnt enough\r\n",
        "    self.A[self.n] = ele\r\n",
        "    self.n += 1\r\n",
        "  \r\n",
        "  def _resize(self,new_cap):\r\n",
        "    B = self.make_array(new_cap) #we create new Array B and insert all A's elements into B\r\n",
        "    for k in range(self.n):\r\n",
        "      B[k] = self.A[k]\r\n",
        "\r\n",
        "    self.A = B #swap arrays A and B\r\n",
        "    self.capacity = new_cap\r\n",
        "\r\n",
        "  def make_array(self,new_cap):\r\n",
        "    return (new_cap * ctypes.py_object)()\r\n",
        "\r\n",
        "        \r\n",
        "        #Returns a new array with new_cap capacity\r\n",
        "        "
      ],
      "execution_count": null,
      "outputs": []
    },
    {
      "cell_type": "code",
      "metadata": {
        "id": "JhwD8JKRwTjF"
      },
      "source": [
        "arr = DynamicArray()"
      ],
      "execution_count": null,
      "outputs": []
    },
    {
      "cell_type": "code",
      "metadata": {
        "id": "uvMOVM96wVhd"
      },
      "source": [
        "arr.append(1)"
      ],
      "execution_count": null,
      "outputs": []
    },
    {
      "cell_type": "code",
      "metadata": {
        "colab": {
          "base_uri": "https://localhost:8080/"
        },
        "id": "gn9vnDjKwYwd",
        "outputId": "45bee8b3-215d-460c-a2fc-fb1929ce9f0c"
      },
      "source": [
        "print(len(arr) , sys.getsizeof(arr))"
      ],
      "execution_count": null,
      "outputs": [
        {
          "output_type": "stream",
          "text": [
            "10 64\n"
          ],
          "name": "stdout"
        }
      ]
    },
    {
      "cell_type": "code",
      "metadata": {
        "id": "MDmgJaLJwZf4"
      },
      "source": [
        "arr.append(2)"
      ],
      "execution_count": null,
      "outputs": []
    },
    {
      "cell_type": "code",
      "metadata": {
        "colab": {
          "base_uri": "https://localhost:8080/"
        },
        "id": "hDmg0dj8wbrS",
        "outputId": "80de66f5-1211-465f-8cff-bdfc0d4199c2"
      },
      "source": [
        "len(arr)"
      ],
      "execution_count": null,
      "outputs": [
        {
          "output_type": "execute_result",
          "data": {
            "text/plain": [
              "10"
            ]
          },
          "metadata": {
            "tags": []
          },
          "execution_count": 45
        }
      ]
    },
    {
      "cell_type": "code",
      "metadata": {
        "colab": {
          "base_uri": "https://localhost:8080/"
        },
        "id": "7X5ev25bwcgg",
        "outputId": "123e24fe-1328-4a34-8a88-e601d658617c"
      },
      "source": [
        "arr[0]"
      ],
      "execution_count": null,
      "outputs": [
        {
          "output_type": "execute_result",
          "data": {
            "text/plain": [
              "1"
            ]
          },
          "metadata": {
            "tags": []
          },
          "execution_count": 46
        }
      ]
    },
    {
      "cell_type": "code",
      "metadata": {
        "colab": {
          "base_uri": "https://localhost:8080/"
        },
        "id": "F2kHhxe7weGo",
        "outputId": "6718147d-2bbe-48cc-8c6b-272682e1a145"
      },
      "source": [
        "b = sys.getsizeof(arr)\r\n",
        "b"
      ],
      "execution_count": null,
      "outputs": [
        {
          "output_type": "execute_result",
          "data": {
            "text/plain": [
              "64"
            ]
          },
          "metadata": {
            "tags": []
          },
          "execution_count": 47
        }
      ]
    },
    {
      "cell_type": "code",
      "metadata": {
        "colab": {
          "base_uri": "https://localhost:8080/"
        },
        "id": "Ub1LhV_Xx85z",
        "outputId": "82d5d4b1-9792-4087-c7bd-fe2089e7a712"
      },
      "source": [
        "data = DynamicArray()\r\n",
        "n = 10\r\n",
        "for i in range(n):\r\n",
        "  c = data.length()\r\n",
        "  d = data.capacity\r\n",
        "  print('Length:{} , Size in Bytes:{}'.format(c,d))\r\n",
        "  data.append(n)"
      ],
      "execution_count": null,
      "outputs": [
        {
          "output_type": "stream",
          "text": [
            "Length:0 , Size in Bytes:1\n",
            "Length:1 , Size in Bytes:1\n",
            "Length:2 , Size in Bytes:2\n",
            "Length:3 , Size in Bytes:4\n",
            "Length:4 , Size in Bytes:4\n",
            "Length:5 , Size in Bytes:8\n",
            "Length:6 , Size in Bytes:8\n",
            "Length:7 , Size in Bytes:8\n",
            "Length:8 , Size in Bytes:8\n",
            "Length:9 , Size in Bytes:16\n"
          ],
          "name": "stdout"
        }
      ]
    },
    {
      "cell_type": "code",
      "metadata": {
        "colab": {
          "base_uri": "https://localhost:8080/"
        },
        "id": "8JNftYHPzEnP",
        "outputId": "4513283e-b451-4b90-a38c-4081faf26cd7"
      },
      "source": [
        "data.capacity"
      ],
      "execution_count": null,
      "outputs": [
        {
          "output_type": "execute_result",
          "data": {
            "text/plain": [
              "16"
            ]
          },
          "metadata": {
            "tags": []
          },
          "execution_count": 57
        }
      ]
    },
    {
      "cell_type": "code",
      "metadata": {
        "id": "SIp-hLdLz_wp"
      },
      "source": [
        "# #INTERVIEW PROBLEMS\r\n",
        "# 1. Anagram Check\r\n",
        "# Problem\r\n",
        "# Given two strings, check to see if they are anagrams. An anagram is when the two strings can be written using the exact same letters (so you can just rearrange the letters to get a different phrase or word).\r\n",
        "\r\n",
        "# For example:\r\n",
        "\r\n",
        "# \"public relations\" is an anagram of \"crap built on lies.\"\r\n",
        "\r\n",
        "# \"clint eastwood\" is an anagram of \"old west action\"\r\n",
        "#ignore spaces and capitalization"
      ],
      "execution_count": null,
      "outputs": []
    },
    {
      "cell_type": "code",
      "metadata": {
        "id": "ds58ENWXCr33"
      },
      "source": [
        "#Solution 1\r\n",
        "def anagram(s1,s2):\r\n",
        "  s1 = s1.replace(' ','').lower() #get rid of empty spaces and capitalizations\r\n",
        "  s2 = s2.replace(' ','').lower()\r\n",
        "  return sorted(s1) == sorted(s2)"
      ],
      "execution_count": null,
      "outputs": []
    },
    {
      "cell_type": "code",
      "metadata": {
        "id": "rdvdhu6HDzqG"
      },
      "source": [
        "#Solution2\r\n",
        "def anagram2(s1,s2):\r\n",
        "  s1 = s1.replace(' ','').lower() #get rid of empty spaces and capitalizations\r\n",
        "  s2 = s2.replace(' ','').lower()\r\n",
        "\r\n",
        "  #Edge case Check\r\n",
        "  if len(s1) != len(s2):\r\n",
        "    return False\r\n",
        "\r\n",
        "  count = {}\r\n",
        "  for letter in s1:\r\n",
        "    if letter in count:\r\n",
        "      count[letter] += 1\r\n",
        "    else:\r\n",
        "      count[letter] = 1\r\n",
        "  \r\n",
        "  for letter in s2:\r\n",
        "    if letter in count:\r\n",
        "      count[letter] -= 1\r\n",
        "    else:\r\n",
        "      count[letter] = 1\r\n",
        "\r\n",
        "  for k in count:\r\n",
        "    if count[k]!=0:\r\n",
        "      return False\r\n",
        "  return True\r\n"
      ],
      "execution_count": null,
      "outputs": []
    },
    {
      "cell_type": "code",
      "metadata": {
        "id": "1URhtm4wE0yN"
      },
      "source": [
        "#Solution 3\r\n",
        "def anagram2(s1,s2):\r\n",
        "      s1 = s1.replace(' ','').lower() #get rid of empty spaces and capitalizations\r\n",
        "      s2 = s2.replace(' ','').lower()\r\n",
        "\r\n",
        "      #Edge case Check\r\n",
        "      if len(s1) != len(s2):\r\n",
        "        return False\r\n",
        "\r\n",
        "      count = {}\r\n",
        "      for i in range(len(s1)):\r\n",
        "        if s1[i] in count:\r\n",
        "            count[s1[i]] += 1\r\n",
        "        else:\r\n",
        "            count[s1[i]] = 1\r\n",
        "        if s2[i] in count:\r\n",
        "            count[s2[i]] -= 1\r\n",
        "        else:\r\n",
        "            count[s2[i]] = -1\r\n",
        "\r\n",
        "      for k in count:\r\n",
        "        if count[k] != 0:\r\n",
        "          return False\r\n",
        "\r\n",
        "      return True"
      ],
      "execution_count": null,
      "outputs": []
    },
    {
      "cell_type": "code",
      "metadata": {
        "id": "0IKE6sChH6rO"
      },
      "source": [
        "# 2. Array Pair Sum\r\n",
        "# Problem\r\n",
        "# Given an integer array, output all the unique pairs that sum up to a specific value k.\r\n",
        "\r\n",
        "# So the input:\r\n",
        "\r\n",
        "# pair_sum([1,3,2,2],4)\r\n",
        "\r\n",
        "# would return 2 pairs:\r\n",
        "\r\n",
        "#  (1,3)\r\n",
        "#  (2,2)"
      ],
      "execution_count": null,
      "outputs": []
    },
    {
      "cell_type": "code",
      "metadata": {
        "id": "WDz0kNfFJVCs"
      },
      "source": [
        "def pair_sum(arr,k):\r\n",
        "  if len(arr) < 2:\r\n",
        "    return\r\n",
        "  seen = set()\r\n",
        "  output = set()\r\n",
        "  for num in arr:\r\n",
        "    target = k - num\r\n",
        "    if target not in seen:\r\n",
        "      seen.add(num)\r\n",
        "    else:\r\n",
        "      output.add((min(num,target),max(num,target)))\r\n",
        "  return len(output)"
      ],
      "execution_count": null,
      "outputs": []
    },
    {
      "cell_type": "code",
      "metadata": {
        "id": "XDI-BPWSLH1Y"
      },
      "source": [
        "# 3. Find the Missing Element\r\n",
        "# Problem\r\n",
        "# Consider an array of non-negative integers. A second array is formed by shuffling the elements of the first array and deleting a random element. \r\n",
        "# Given these two arrays, find which element is missing in the second array.\r\n",
        "# Here is an example input, the first array is shuffled and the number 5 is removed to construct the second array.\r\n",
        "# Input:\r\n",
        "\r\n",
        "# finder([1,2,3,4,5,6,7],[3,7,2,1,4,6])\r\n",
        "\r\n",
        "# Output:\r\n",
        "\r\n",
        "# 5 is the missing number"
      ],
      "execution_count": null,
      "outputs": []
    },
    {
      "cell_type": "code",
      "metadata": {
        "colab": {
          "base_uri": "https://localhost:8080/"
        },
        "id": "Qg0RtFp9ULPm",
        "outputId": "80eafeb4-1ecd-4ee5-ce22-c3dc6f65dd6c"
      },
      "source": [
        "def finder(l1,l2):\r\n",
        "  ans = 0\r\n",
        "  for ele in l1:\r\n",
        "    ans ^= ele\r\n",
        "  for ele in l2:\r\n",
        "    ans ^= ele\r\n",
        "  return ans\r\n",
        "finder([1,2,3,4,5,6,7],[3,7,2,1,4,6])"
      ],
      "execution_count": null,
      "outputs": [
        {
          "output_type": "execute_result",
          "data": {
            "text/plain": [
              "5"
            ]
          },
          "metadata": {
            "tags": []
          },
          "execution_count": 74
        }
      ]
    },
    {
      "cell_type": "code",
      "metadata": {
        "id": "qUzC-jz9UhDh"
      },
      "source": [
        "# 4.Largest Continuous Sum ( Kadanes Algorithm)\r\n",
        "# Problem\r\n",
        "# Given an array of integers (positive and negative) find the largest continuous sum.\r\n",
        "\r\n",
        "# Solution\r\n",
        "# Fill out your solution below:\r\n",
        "\r\n",
        "def large_cont_sum(arr):\r\n",
        "    if len(arr) == 0:\r\n",
        "        return 0\r\n",
        "    \r\n",
        "    max_num = sum = arr[0]# max=sum=arr[0] bug: TypeError: 'int' object is not callable. (Do not use the keyword!)\r\n",
        "    \r\n",
        "    for n in arr[1:]:\r\n",
        "        sum = max(sum+n, n)\r\n",
        "        max_num = max(sum, max_num)\r\n",
        "    return max_num\r\n"
      ],
      "execution_count": null,
      "outputs": []
    },
    {
      "cell_type": "code",
      "metadata": {
        "colab": {
          "base_uri": "https://localhost:8080/"
        },
        "id": "d_6rSquzYgwP",
        "outputId": "91df785c-bfba-4654-f4e7-383e4cb78141"
      },
      "source": [
        "large_cont_sum([1,-2,-3,2,4,-2,3,2])"
      ],
      "execution_count": null,
      "outputs": [
        {
          "output_type": "execute_result",
          "data": {
            "text/plain": [
              "9"
            ]
          },
          "metadata": {
            "tags": []
          },
          "execution_count": 77
        }
      ]
    },
    {
      "cell_type": "code",
      "metadata": {
        "id": "LRZ3QE61Ynm6"
      },
      "source": [
        "#Now find the start index and end index of this sequence\r\n",
        "def largest_cont_sum(arr):\r\n",
        "  if len(arr) == 0:\r\n",
        "    return 0\r\n",
        "  max_sum = sum = arr[0]\r\n",
        "  cur_index = end_index = start_index = 0\r\n",
        "\r\n",
        "  for i in range(1,len(arr)):\r\n",
        "    num = arr[i]\r\n",
        "    if sum < 0:\r\n",
        "      sum = num\r\n",
        "      cur_index = i\r\n",
        "    else:\r\n",
        "      sum += num\r\n",
        "    \r\n",
        "    if sum > max_sum:\r\n",
        "      max_sum = sum\r\n",
        "      start_index = cur_index\r\n",
        "      end_index = i\r\n",
        "    \r\n",
        "  ans = [start_index , end_index , max_sum]\r\n",
        "  return ans"
      ],
      "execution_count": null,
      "outputs": []
    },
    {
      "cell_type": "code",
      "metadata": {
        "colab": {
          "base_uri": "https://localhost:8080/"
        },
        "id": "KQoI98orbs8E",
        "outputId": "9f4240c7-1529-4282-f2f6-c52f98645b96"
      },
      "source": [
        "largest_cont_sum([1,-2,-3,2,4,-2,3,2])"
      ],
      "execution_count": null,
      "outputs": [
        {
          "output_type": "execute_result",
          "data": {
            "text/plain": [
              "[3, 7, 9]"
            ]
          },
          "metadata": {
            "tags": []
          },
          "execution_count": 82
        }
      ]
    },
    {
      "cell_type": "code",
      "metadata": {
        "id": "8RIdWZGDbvPZ"
      },
      "source": [
        "# 5 . Sentence Reversal\r\n",
        "# Problem\r\n",
        "# Given a string of words, reverse all the words. For example:\r\n",
        "\r\n",
        "# Given:\r\n",
        "\r\n",
        "# 'This is the best'\r\n",
        "\r\n",
        "# Return:\r\n",
        "\r\n",
        "# 'best the is This'\r\n",
        "\r\n",
        "# As part of this exercise you should remove all leading and trailing whitespace. So that inputs such as:\r\n",
        "\r\n",
        "# '  space here'  and 'space here      '\r\n",
        "\r\n",
        "# both become:\r\n",
        "\r\n",
        "# 'here space'"
      ],
      "execution_count": 1,
      "outputs": []
    },
    {
      "cell_type": "code",
      "metadata": {
        "colab": {
          "base_uri": "https://localhost:8080/",
          "height": 35
        },
        "id": "kpquIc2QCPK7",
        "outputId": "75f287db-dacf-47fc-9ccb-7a55f227ae2d"
      },
      "source": [
        "#Not valid for interview\r\n",
        " #Python String split() Method The split() method splits a string into a list.\r\n",
        "    #The join() method takes all items in an iterable and joins them into one string.\r\n",
        "    # Now, str.split splits on whitespace by default (it takes an optional argument, which can be used to specify the character \r\n",
        "    #on which to split). It also splits on any number of consecutive whitespace characters. Now, what this means is that if you \r\n",
        "    #have a string that contains whitespace characters within it, calling str.split on that string will return you a list of non-empty \r\n",
        "    #substrings, none of which contain any whitespace whatsoever. Thus, if your string has heterogeneous consecutive whitespace characters, \r\n",
        "    #those whitespace characters are treated no differently from each other.\r\n",
        "def rev_word(s):\r\n",
        "  return \" \".join(s.split()[::-1])\r\n",
        "rev_word('best the is This')"
      ],
      "execution_count": 3,
      "outputs": [
        {
          "output_type": "execute_result",
          "data": {
            "application/vnd.google.colaboratory.intrinsic+json": {
              "type": "string"
            },
            "text/plain": [
              "'This is the best'"
            ]
          },
          "metadata": {
            "tags": []
          },
          "execution_count": 3
        }
      ]
    },
    {
      "cell_type": "code",
      "metadata": {
        "colab": {
          "base_uri": "https://localhost:8080/",
          "height": 35
        },
        "id": "k5twJMq7C5g9",
        "outputId": "767bab9f-b2f1-4e0f-b57a-04397115c649"
      },
      "source": [
        "def rev_word2(s):\r\n",
        "  words = []\r\n",
        "  length = len(s)\r\n",
        "  spaces = [' ']\r\n",
        "  i = 0\r\n",
        "  while i < length:\r\n",
        "    if s[i] not in spaces:\r\n",
        "      word_start = i\r\n",
        "      while i < length and s[i] not in spaces:\r\n",
        "        i += 1\r\n",
        "      words.append(s[word_start:i])\r\n",
        "    i += 1\r\n",
        "  \r\n",
        "  return \" \".join(words[::-1])\r\n",
        "rev_word2('best the is This')"
      ],
      "execution_count": 5,
      "outputs": [
        {
          "output_type": "execute_result",
          "data": {
            "application/vnd.google.colaboratory.intrinsic+json": {
              "type": "string"
            },
            "text/plain": [
              "'This is the best'"
            ]
          },
          "metadata": {
            "tags": []
          },
          "execution_count": 5
        }
      ]
    },
    {
      "cell_type": "code",
      "metadata": {
        "id": "uq5wfsYlFSyT"
      },
      "source": [
        "# 6. String Compression\r\n",
        "# Problem\r\n",
        "# Given a string in the form 'AAAABBBBCCCCCDDEEEE' compress it to become 'A4B4C5D2E4'. For this problem, you can falsely \"compress\" strings of single or double letters.\r\n",
        "#  For instance, it is okay for 'AAB' to return 'A2B1' even though this technically takes more space.\r\n",
        "\r\n",
        "# The function should also be case sensitive, so that a string 'AAAaaa' returns 'A3a3'."
      ],
      "execution_count": 6,
      "outputs": []
    },
    {
      "cell_type": "code",
      "metadata": {
        "colab": {
          "base_uri": "https://localhost:8080/",
          "height": 35
        },
        "id": "83JyGIZCGPrA",
        "outputId": "7a07f5a6-741c-4ce7-fd07-14b7b88302ea"
      },
      "source": [
        "def compress(s):\r\n",
        "  r = \"\"\r\n",
        "  l = len(s)\r\n",
        "\r\n",
        "  if l == 0:\r\n",
        "    return r\r\n",
        "  if l == 1:\r\n",
        "    return s + \"1\"\r\n",
        "  last = s[0]\r\n",
        "  cnt = 1\r\n",
        "  i = 1\r\n",
        "  while i < l:\r\n",
        "    if s[i] == s[i-1]:\r\n",
        "      cnt += 1\r\n",
        "    else:\r\n",
        "      r = r + s[i-1] + str(cnt)\r\n",
        "      cnt = 1\r\n",
        "    i += 1\r\n",
        "  r = r + s[i-1] + str(cnt)\r\n",
        "  return r\r\n",
        "compress('AAAABBBBCCCCCDDEEEE')"
      ],
      "execution_count": 8,
      "outputs": [
        {
          "output_type": "execute_result",
          "data": {
            "application/vnd.google.colaboratory.intrinsic+json": {
              "type": "string"
            },
            "text/plain": [
              "'A4B4C5D2E4'"
            ]
          },
          "metadata": {
            "tags": []
          },
          "execution_count": 8
        }
      ]
    },
    {
      "cell_type": "code",
      "metadata": {
        "id": "ToqkKBGFJgk-"
      },
      "source": [
        "# 7. Unique Characters in String\r\n",
        "# Problem\r\n",
        "# Given a string,determine if it is comprised of all unique characters. For example, the string 'abcde' has all unique characters\r\n",
        "#  and should return True. The string 'aabcde' contains duplicate characters and should return false."
      ],
      "execution_count": 10,
      "outputs": []
    },
    {
      "cell_type": "code",
      "metadata": {
        "colab": {
          "base_uri": "https://localhost:8080/"
        },
        "id": "WKtequleKnB_",
        "outputId": "452c6007-6e3c-4323-e64b-9ba00837b00d"
      },
      "source": [
        "def unique_str(s):\r\n",
        "  myset = set()\r\n",
        "  for k in s:\r\n",
        "    if k in myset:\r\n",
        "      return False\r\n",
        "    else:\r\n",
        "      myset.add(k)\r\n",
        "  return True\r\n",
        "unique_str('abcde')"
      ],
      "execution_count": 12,
      "outputs": [
        {
          "output_type": "execute_result",
          "data": {
            "text/plain": [
              "True"
            ]
          },
          "metadata": {
            "tags": []
          },
          "execution_count": 12
        }
      ]
    },
    {
      "cell_type": "code",
      "metadata": {
        "colab": {
          "base_uri": "https://localhost:8080/"
        },
        "id": "wFoucLU_LEnF",
        "outputId": "71e90360-a3f9-40fa-9846-fb61ec8ef70d"
      },
      "source": [
        "unique_str('aaabcd')"
      ],
      "execution_count": 13,
      "outputs": [
        {
          "output_type": "execute_result",
          "data": {
            "text/plain": [
              "False"
            ]
          },
          "metadata": {
            "tags": []
          },
          "execution_count": 13
        }
      ]
    },
    {
      "cell_type": "code",
      "metadata": {
        "colab": {
          "base_uri": "https://localhost:8080/"
        },
        "id": "zfCFTsa_LH_F",
        "outputId": "5c59614c-e664-4102-e0d7-86f6d3195782"
      },
      "source": [
        "def unique_str2(s):\r\n",
        "  return len(set(s)) == len(s)\r\n",
        "unique_str2('aaabccd')"
      ],
      "execution_count": 14,
      "outputs": [
        {
          "output_type": "execute_result",
          "data": {
            "text/plain": [
              "False"
            ]
          },
          "metadata": {
            "tags": []
          },
          "execution_count": 14
        }
      ]
    },
    {
      "cell_type": "code",
      "metadata": {
        "colab": {
          "base_uri": "https://localhost:8080/"
        },
        "id": "Bh6mZF5uLStt",
        "outputId": "6276ff52-20c8-4985-c191-24df09e9fec8"
      },
      "source": [
        "unique_str2('abcd')"
      ],
      "execution_count": 15,
      "outputs": [
        {
          "output_type": "execute_result",
          "data": {
            "text/plain": [
              "True"
            ]
          },
          "metadata": {
            "tags": []
          },
          "execution_count": 15
        }
      ]
    },
    {
      "cell_type": "code",
      "metadata": {
        "id": "z8cPxsIkLVKe"
      },
      "source": [
        ""
      ],
      "execution_count": null,
      "outputs": []
    }
  ]
}