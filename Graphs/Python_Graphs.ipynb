{
  "nbformat": 4,
  "nbformat_minor": 0,
  "metadata": {
    "colab": {
      "name": "Python_Graphs.ipynb",
      "provenance": []
    },
    "kernelspec": {
      "name": "python3",
      "display_name": "Python 3"
    },
    "language_info": {
      "name": "python"
    }
  },
  "cells": [
    {
      "cell_type": "code",
      "metadata": {
        "id": "35sW-ykMufxv"
      },
      "source": [
        "# Implementation of a Graph as an Adjacency List\n",
        "# Using dictionaries, it is easy to implement the adjacency list in Python. In our implementation of the Graph abstract data type we will create two classes: \n",
        "# Graph, which holds the master list of vertices, and Vertex, which will represent each vertex in the graph.\n",
        "# Each Vertex uses a dictionary to keep track of the vertices to which it is connected, and the weight of each edge. This dictionary is called connectedTo. \n",
        "# The constructor simply initializes the id, which will typically be a string, and the connectedTo dictionary. The addNeighbor method is used add a connection \n",
        "# from this vertex to another. The getConnections method returns all of the vertices in the adjacency list, as represented by the connectedTo instance variable. \n",
        "# The getWeight method returns the weight of the edge from this vertex to the vertex passed as a parameter."
      ],
      "execution_count": 1,
      "outputs": []
    },
    {
      "cell_type": "code",
      "metadata": {
        "id": "XOoRj6USu0Lp"
      },
      "source": [
        "class Vertex:\n",
        "    def __init__(self,key):\n",
        "        self.id = key\n",
        "        self.connectedTo = {}\n",
        "\n",
        "    def addNeighbor(self,nbr,weight=0):\n",
        "        self.connectedTo[nbr] = weight\n",
        "\n",
        "    def __str__(self):\n",
        "        return str(self.id) + ' connectedTo: ' + str([x.id for x in self.connectedTo])\n",
        "\n",
        "    def getConnections(self):\n",
        "        return self.connectedTo.keys()\n",
        "\n",
        "    def getId(self):\n",
        "        return self.id\n",
        "\n",
        "    def getWeight(self,nbr):\n",
        "        return self.connectedTo[nbr]"
      ],
      "execution_count": 2,
      "outputs": []
    },
    {
      "cell_type": "code",
      "metadata": {
        "id": "FKoSnlB7u6OW"
      },
      "source": [
        "# In order to implement a Graph as an Adjacency List what we need to do is define the methods our Adjacency List object will have:\n",
        "\n",
        "# Graph() creates a new, empty graph.\n",
        "# addVertex(vert) adds an instance of Vertex to the graph.\n",
        "# addEdge(fromVert, toVert) Adds a new, directed edge to the graph that connects two vertices.\n",
        "# addEdge(fromVert, toVert, weight) Adds a new, weighted, directed edge to the graph that connects two vertices.\n",
        "# getVertex(vertKey) finds the vertex in the graph named vertKey.\n",
        "# getVertices() returns the list of all vertices in the graph.\n",
        "# in returns True for a statement of the form vertex in graph, if the given vertex is in the graph, False otherwise."
      ],
      "execution_count": 3,
      "outputs": []
    },
    {
      "cell_type": "code",
      "metadata": {
        "id": "9Ipzyu5cvB6c"
      },
      "source": [
        "class Graph:\n",
        "    def __init__(self):\n",
        "        self.vertList = {}\n",
        "        self.numVertices = 0\n",
        "\n",
        "    def addVertex(self,key):\n",
        "        self.numVertices = self.numVertices + 1\n",
        "        newVertex = Vertex(key)\n",
        "        self.vertList[key] = newVertex\n",
        "        return newVertex\n",
        "\n",
        "    def getVertex(self,n):\n",
        "        if n in self.vertList:\n",
        "            return self.vertList[n]\n",
        "        else:\n",
        "            return None\n",
        "\n",
        "    def __contains__(self,n):\n",
        "        return n in self.vertList\n",
        "\n",
        "    def addEdge(self,f,t,cost=0):\n",
        "        if f not in self.vertList:\n",
        "            nv = self.addVertex(f)\n",
        "        if t not in self.vertList:\n",
        "            nv = self.addVertex(t)\n",
        "        self.vertList[f].addNeighbor(self.vertList[t], cost)\n",
        "\n",
        "    def getVertices(self):\n",
        "        return self.vertList.keys()\n",
        "\n",
        "    def __iter__(self):\n",
        "        return iter(self.vertList.values())"
      ],
      "execution_count": 4,
      "outputs": []
    },
    {
      "cell_type": "code",
      "metadata": {
        "id": "3Sx5Da2ZvInf"
      },
      "source": [
        "g = Graph()\n",
        "for i in range(6):\n",
        "    g.addVertex(i)"
      ],
      "execution_count": 5,
      "outputs": []
    },
    {
      "cell_type": "code",
      "metadata": {
        "colab": {
          "base_uri": "https://localhost:8080/"
        },
        "id": "0MFDmfmXvQ49",
        "outputId": "bf56f9c7-0dc9-470d-9d8d-e796c65d718d"
      },
      "source": [
        "g.addEdge(0,1,2)\n",
        "for vertex in g:\n",
        "    print (vertex)\n",
        "    print (vertex.getConnections())\n",
        "    break"
      ],
      "execution_count": 7,
      "outputs": [
        {
          "output_type": "stream",
          "text": [
            "0 connectedTo: [1]\n",
            "dict_keys([<__main__.Vertex object at 0x7f339ad8fcd0>])\n"
          ],
          "name": "stdout"
        }
      ]
    },
    {
      "cell_type": "code",
      "metadata": {
        "id": "WAVrPQp-vaUP"
      },
      "source": [
        "# Implementation of Depth-First Search\n",
        "# This algorithm we will be discussing is Depth-First search which as the name hints at, explores possible vertices (from a supplied root) down \n",
        "# each branch before backtracking. This property allows the algorithm to be implemented succinctly in both iterative and recursive forms. Below is a \n",
        "# listing of the actions performed upon each visit to a node.\n",
        "# Mark the current vertex as being visited.\n",
        "# Explore each adjacent vertex that is not included in the visited set.\n",
        "# We will assume a simplified version of a graph in the following form:"
      ],
      "execution_count": 8,
      "outputs": []
    },
    {
      "cell_type": "code",
      "metadata": {
        "id": "hTLndLpVv5Du"
      },
      "source": [
        "graph = {'A': set(['B', 'C']),\n",
        "         'B': set(['A', 'D', 'E']),\n",
        "         'C': set(['A', 'F']),\n",
        "         'D': set(['B']),\n",
        "         'E': set(['B', 'F']),\n",
        "         'F': set(['C', 'E'])}"
      ],
      "execution_count": 9,
      "outputs": []
    },
    {
      "cell_type": "code",
      "metadata": {
        "colab": {
          "base_uri": "https://localhost:8080/"
        },
        "id": "yn6EJ9Uiv-eA",
        "outputId": "5f810cf1-5a12-4cab-93b3-3ef9e6b94fcd"
      },
      "source": [
        "# Connected Component\n",
        "# The implementation below uses the stack data-structure to build-up and return a set of vertices that are accessible within the subjects connected component. \n",
        "# Using Python’s overloading of the subtraction operator to remove items from a set, we are able to add only the unvisited adjacent vertices.\n",
        "\n",
        "def dfs(graph, start):\n",
        "    visited, stack = set(), [start]\n",
        "    while stack:\n",
        "        vertex = stack.pop()\n",
        "        if vertex not in visited:\n",
        "            visited.add(vertex)\n",
        "            stack.extend(graph[vertex] - visited)\n",
        "    return visited\n",
        "\n",
        "dfs(graph, 'A') "
      ],
      "execution_count": 10,
      "outputs": [
        {
          "output_type": "execute_result",
          "data": {
            "text/plain": [
              "{'A', 'B', 'C', 'D', 'E', 'F'}"
            ]
          },
          "metadata": {
            "tags": []
          },
          "execution_count": 10
        }
      ]
    },
    {
      "cell_type": "code",
      "metadata": {
        "colab": {
          "base_uri": "https://localhost:8080/"
        },
        "id": "tZ_ahZ5FwK73",
        "outputId": "66a3e7bd-3d13-4266-a4d3-5b0fad759643"
      },
      "source": [
        "# Paths\n",
        "# We are able to tweak both of the previous implementations to return all possible paths between a start and goal vertex. The implementation below \n",
        "# uses the stack data-structure again to iteratively solve the problem, yielding each possible path when we locate the goal. Using a generator allows \n",
        "# the user to only compute the desired amount of alternative paths.\n",
        "\n",
        "def dfs_paths(graph, start, goal):\n",
        "    stack = [(start, [start])]\n",
        "    while stack:\n",
        "        (vertex, path) = stack.pop()\n",
        "        for nxt in graph[vertex] - set(path):\n",
        "            if nxt == goal:\n",
        "                yield path + [nxt]\n",
        "            else:\n",
        "                stack.append((nxt, path + [nxt]))\n",
        "\n",
        "list(dfs_paths(graph, 'A', 'F'))"
      ],
      "execution_count": 11,
      "outputs": [
        {
          "output_type": "execute_result",
          "data": {
            "text/plain": [
              "[['A', 'C', 'F'], ['A', 'B', 'E', 'F']]"
            ]
          },
          "metadata": {
            "tags": []
          },
          "execution_count": 11
        }
      ]
    },
    {
      "cell_type": "code",
      "metadata": {
        "id": "AnGhzsggwY0b"
      },
      "source": [
        "# Implementation of Breadth First Search\n",
        "# An alternative algorithm called Breath-First search provides us with the ability to return the same results as DFS but with the added guarantee to \n",
        "# return the shortest-path first. This algorithm is a little more tricky to implement in a recursive manner instead using the queue data-structure, \n",
        "# as such I will only being documenting the iterative approach. The actions performed per each explored vertex are the same as the depth-first implementation, \n",
        "# however, replacing the stack with a queue will instead explore the breadth of a vertex depth before moving on. This behavior guarantees that the first path \n",
        "# located is one of the shortest-paths present, based on number of edges being the cost factor.\n",
        "\n",
        "# We'll assume our Graph is in the form:\n",
        "graph = {'A': set(['B', 'C']),\n",
        "         'B': set(['A', 'D', 'E']),\n",
        "         'C': set(['A', 'F']),\n",
        "         'D': set(['B']),\n",
        "         'E': set(['B', 'F']),\n",
        "         'F': set(['C', 'E'])}"
      ],
      "execution_count": 12,
      "outputs": []
    },
    {
      "cell_type": "code",
      "metadata": {
        "colab": {
          "base_uri": "https://localhost:8080/"
        },
        "id": "csAxaQDIwstI",
        "outputId": "0c84aff5-d055-4d35-dd9d-611a37ab90d5"
      },
      "source": [
        "def bfs(graph, start):\n",
        "    visited, queue = set(), [start]\n",
        "    while queue:\n",
        "        vertex = queue.pop(0)\n",
        "        if vertex not in visited:\n",
        "            visited.add(vertex)\n",
        "            queue.extend(graph[vertex] - visited)\n",
        "    return visited\n",
        "\n",
        "bfs(graph, 'A')"
      ],
      "execution_count": 13,
      "outputs": [
        {
          "output_type": "execute_result",
          "data": {
            "text/plain": [
              "{'A', 'B', 'C', 'D', 'E', 'F'}"
            ]
          },
          "metadata": {
            "tags": []
          },
          "execution_count": 13
        }
      ]
    },
    {
      "cell_type": "code",
      "metadata": {
        "colab": {
          "base_uri": "https://localhost:8080/"
        },
        "id": "nRp2PQZvwzZQ",
        "outputId": "e1ae6e88-b20a-441d-fa3b-d7cdf65e7104"
      },
      "source": [
        "# Paths\n",
        "# This implementation can again be altered slightly to instead return all possible paths between two vertices, the first of which being one of the shortest such path.\n",
        "\n",
        "def bfs_paths(graph, start, goal):\n",
        "    queue = [(start, [start])]\n",
        "    while queue:\n",
        "        (vertex, path) = queue.pop(0)\n",
        "        for next in graph[vertex] - set(path):\n",
        "            if next == goal:\n",
        "                yield path + [next]\n",
        "            else:\n",
        "                queue.append((next, path + [next]))\n",
        "\n",
        "list(bfs_paths(graph, 'A', 'F'))"
      ],
      "execution_count": 14,
      "outputs": [
        {
          "output_type": "execute_result",
          "data": {
            "text/plain": [
              "[['A', 'C', 'F'], ['A', 'B', 'E', 'F']]"
            ]
          },
          "metadata": {
            "tags": []
          },
          "execution_count": 14
        }
      ]
    },
    {
      "cell_type": "code",
      "metadata": {
        "id": "g75sxweRw51Y"
      },
      "source": [
        "#INTERVIEW PROBLEMS\n",
        "# # 1.Knight Probability on Chessboard\n",
        "# On an NxN chessboard, a knight starts at the r-th row and c-th column and attempts to make exactly K moves. The rows and columns are 0 indexed, so the top-left \n",
        "# square is (0, 0), and the bottom-right square is (N-1, N-1).\n",
        "# Each time the knight is to move, it chooses one of eight possible moves uniformly at random (even if the piece would go off the chessboard) and moves there.\n",
        "# The knight continues moving until it has made exactly K moves or has moved off the chessboard. Return the probability that the knight remains on the board\n",
        "#  after it has stopped moving.\n",
        "\n",
        "# Example:\n",
        "\n",
        "# Input: 3, 2, 0, 0\n",
        "# Output: 0.0625"
      ],
      "execution_count": 15,
      "outputs": []
    },
    {
      "cell_type": "code",
      "metadata": {
        "id": "Tbuw8Uu7xzyZ"
      },
      "source": [
        "def knightProbability(self, N: int, K: int, r: int, c: int) -> float:\n",
        "\t@functools.lru_cache(None)\n",
        "\tdef travels(xcurr, ycurr, k):\n",
        "\t\tif xcurr < 0 or xcurr >= N or ycurr < 0 or ycurr >= N: \n",
        "\t\t\t# We're already outside the grid, so probability of staying inside is 0\n",
        "\t\t\treturn 0\n",
        "\t\telif k == 0:\n",
        "\t\t\t# We're inside the grid and have no more moves to make\n",
        "\t\t\treturn 1\n",
        "\t\telse:\n",
        "\t\t\t# Otherwise, we make one of 8 possible moves and find the probability of staying inside after \n",
        "\t\t\t# k - 1 more moves. Because each move is equally likely, we average all of these probabilities.\n",
        "\t\t\treturn (travels(xcurr + 2, ycurr + 1, k - 1) + \n",
        "\t\t\t\t\ttravels(xcurr + 1, ycurr + 2, k - 1) + \n",
        "\t\t\t\t\ttravels(xcurr - 1, ycurr + 2, k - 1) + \n",
        "\t\t\t\t\ttravels(xcurr - 2, ycurr + 1, k - 1) + \n",
        "\t\t\t\t\ttravels(xcurr - 2, ycurr - 1, k - 1) + \n",
        "\t\t\t\t\ttravels(xcurr - 1, ycurr - 2, k - 1) + \n",
        "\t\t\t\t\ttravels(xcurr + 1, ycurr - 2, k - 1) +   \n",
        "\t\t\t\t\ttravels(xcurr + 2, ycurr - 1, k - 1)) / 8\n",
        "\n",
        "\treturn travels(r, c, K)"
      ],
      "execution_count": 16,
      "outputs": []
    },
    {
      "cell_type": "code",
      "metadata": {
        "id": "3_cSIvV2yE74"
      },
      "source": [
        "#2.Word Ladder\n",
        "# A transformation sequence from word beginWord to word endWord using a dictionary wordList is a sequence of words beginWord -> s1 -> s2 -> ... -> sk such that:\n",
        "\n",
        "# Every adjacent pair of words differs by a single letter.\n",
        "# Every si for 1 <= i <= k is in wordList. Note that beginWord does not need to be in wordList.\n",
        "# sk == endWord\n",
        "# Given two words, beginWord and endWord, and a dictionary wordList, return the number of words in the shortest transformation sequence from beginWord to endWord,\n",
        "#  or 0 if no such sequence exists.\n",
        "\n",
        "# Example 1:\n",
        "\n",
        "# Input: beginWord = \"hit\", endWord = \"cog\", wordList = [\"hot\",\"dot\",\"dog\",\"lot\",\"log\",\"cog\"]\n",
        "# Output: 5\n",
        "# Explanation: One shortest transformation sequence is \"hit\" -> \"hot\" -> \"dot\" -> \"dog\" -> cog\", which is 5 words long."
      ],
      "execution_count": 17,
      "outputs": []
    },
    {
      "cell_type": "code",
      "metadata": {
        "id": "GCVcmbC7yqvH"
      },
      "source": [
        "def ladderLength(self, beginWord: str, endWord: str, wordList) -> int:\n",
        "        wordList = set(wordList)\n",
        "        q=[(beginWord,1)]\n",
        "        for word,d in q:\n",
        "            if word==endWord:\n",
        "                return d\n",
        "            for i in range(len(word)):\n",
        "                for char in 'abcdefghijklmnopqrstuvwxyz':\n",
        "                    tmp=word[:i]+char+word[i+1:]\n",
        "                    if tmp in wordList:\n",
        "                        q.append([tmp,d+1])\n",
        "                        wordList.remove(tmp)\n",
        "        return 0"
      ],
      "execution_count": 20,
      "outputs": []
    },
    {
      "cell_type": "code",
      "metadata": {
        "id": "VYR44naJy814"
      },
      "source": [
        ""
      ],
      "execution_count": null,
      "outputs": []
    }
  ]
}